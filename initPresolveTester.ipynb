{
 "cells": [
  {
   "cell_type": "code",
   "execution_count": 1,
   "metadata": {},
   "outputs": [],
   "source": [
    "\n",
    "from pypower.api import loadcase, runopf, ppoption\n",
    "from pypower.idx_brch import *\n",
    "from pypower.idx_bus import *\n",
    "from pypower.idx_gen import *\n",
    "from pypower.idx_cost import *\n",
    "from pypower.ext2int import ext2int\n",
    "import oct2py\n",
    "import numpy as np\n",
    "from numpy import r_\n",
    "import math\n",
    "import os, sys\n",
    "from tqdm import tqdm\n",
    "from oct2py import Oct2Py\n",
    "octave = Oct2Py()\n",
    "import matplotlib.pyplot as plt\n",
    "import matplotlib.ticker as ticker\n",
    "import pickle\n",
    "import shutil\n",
    "import cvxpy as cp\n",
    "from contextlib import contextmanager\n",
    "import warnings\n",
    "import cyipopt\n",
    "import json\n",
    "from problemDefJITP import opfSocp\n",
    "from copy import deepcopy\n",
    "# suppress ComplexWarning\n",
    "warnings.simplefilter(\"ignore\", np.ComplexWarning)\n",
    "# check for latex and configure matplotlib accordingly\n",
    "if shutil.which('latex') is None:\n",
    "    LATEX_AVAILABLE = False\n",
    "else:\n",
    "    LATEX_AVAILABLE = True\n",
    "if LATEX_AVAILABLE:\n",
    "    plt.rcParams['font.size'] = 14\n",
    "    plt.rcParams['text.usetex'] = True\n",
    "    plt.rcParams['text.latex.preamble'] = r'\\usepackage{amsmath,amssymb}'\n",
    "\n",
    "# to suppress output from functions    \n",
    "@contextmanager\n",
    "def suppress_stdout():\n",
    "    with open(os.devnull, 'w') as devnull:\n",
    "        old_stdout = sys.stdout\n",
    "        sys.stdout = devnull\n",
    "        try:  \n",
    "            yield\n",
    "        finally:\n",
    "            sys.stdout = old_stdout    \n",
    "\n",
    "# user options \n",
    "MAX_BUS = 10000 # upper limit of number of buses in cases to be considered\n",
    "RATE = 'A' # which line rating to use ('A','B','C')"
   ]
  },
  {
   "cell_type": "code",
   "execution_count": 8,
   "metadata": {},
   "outputs": [
    {
     "name": "stderr",
     "output_type": "stream",
     "text": [
      "pglib_opf_case60_c:   0%|                                                            | 0/58 [00:00<?, ?it/s]"
     ]
    },
    {
     "name": "stdout",
     "output_type": "stream",
     "text": [
      "16 non unique branches detected for pglib_opf_case60_c!\n"
     ]
    },
    {
     "name": "stderr",
     "output_type": "stream",
     "text": [
      "pglib_opf_case3120sp_k:   3%|█▋                                              | 2/58 [00:00<00:06,  8.28it/s]"
     ]
    },
    {
     "name": "stdout",
     "output_type": "stream",
     "text": [
      "9 non unique branches detected for pglib_opf_case3120sp_k!\n"
     ]
    },
    {
     "name": "stderr",
     "output_type": "stream",
     "text": [
      "pglib_opf_case39_epri:   5%|██▌                                              | 3/58 [00:00<00:09,  6.06it/s]"
     ]
    },
    {
     "name": "stdout",
     "output_type": "stream",
     "text": [
      "286 non unique branches detected for pglib_opf_case2853_sdet!\n",
      "pglib_opf_case39_epri has all unique branches.\n"
     ]
    },
    {
     "name": "stderr",
     "output_type": "stream",
     "text": [
      "pglib_opf_case240_pserc:   9%|████                                           | 5/58 [00:00<00:10,  5.18it/s]"
     ]
    },
    {
     "name": "stdout",
     "output_type": "stream",
     "text": [
      "934 non unique branches detected for pglib_opf_case6495_rte!\n",
      "100 non unique branches detected for pglib_opf_case240_pserc!\n"
     ]
    },
    {
     "name": "stderr",
     "output_type": "stream",
     "text": [
      "pglib_opf_case2869_pegase:  12%|█████▍                                       | 7/58 [00:01<00:08,  6.05it/s]"
     ]
    },
    {
     "name": "stdout",
     "output_type": "stream",
     "text": [
      "612 non unique branches detected for pglib_opf_case2869_pegase!\n"
     ]
    },
    {
     "name": "stderr",
     "output_type": "stream",
     "text": [
      "pglib_opf_case3375wp_k:  14%|██████▌                                         | 8/58 [00:01<00:09,  5.46it/s]"
     ]
    },
    {
     "name": "stdout",
     "output_type": "stream",
     "text": [
      "93 non unique branches detected for pglib_opf_case3375wp_k!\n"
     ]
    },
    {
     "name": "stderr",
     "output_type": "stream",
     "text": [
      "pglib_opf_case2868_rte:  16%|███████▍                                        | 9/58 [00:01<00:09,  5.25it/s]"
     ]
    },
    {
     "name": "stdout",
     "output_type": "stream",
     "text": [
      "337 non unique branches detected for pglib_opf_case2868_rte!\n"
     ]
    },
    {
     "name": "stderr",
     "output_type": "stream",
     "text": [
      "pglib_opf_case5658_epigrids:  17%|███████▏                                  | 10/58 [00:01<00:10,  4.69it/s]"
     ]
    },
    {
     "name": "stdout",
     "output_type": "stream",
     "text": [
      "1209 non unique branches detected for pglib_opf_case5658_epigrids!\n"
     ]
    },
    {
     "name": "stderr",
     "output_type": "stream",
     "text": [
      "pglib_opf_case2383wp_k:  19%|████████▉                                      | 11/58 [00:02<00:09,  4.74it/s]"
     ]
    },
    {
     "name": "stdout",
     "output_type": "stream",
     "text": [
      "9 non unique branches detected for pglib_opf_case2383wp_k!\n"
     ]
    },
    {
     "name": "stderr",
     "output_type": "stream",
     "text": [
      "pglib_opf_case5_pjm:  21%|██████████▎                                       | 12/58 [00:02<00:14,  3.14it/s]"
     ]
    },
    {
     "name": "stdout",
     "output_type": "stream",
     "text": [
      "451 non unique branches detected for pglib_opf_case10000_goc!\n",
      "pglib_opf_case5_pjm has all unique branches.\n"
     ]
    },
    {
     "name": "stderr",
     "output_type": "stream",
     "text": [
      "pglib_opf_case3_lmbd:  28%|█████████████▌                                   | 16/58 [00:03<00:06,  6.19it/s]"
     ]
    },
    {
     "name": "stdout",
     "output_type": "stream",
     "text": [
      "8 non unique branches detected for pglib_opf_case2746wop_k!\n",
      "78 non unique branches detected for pglib_opf_case500_goc!\n",
      "2 non unique branches detected for pglib_opf_case57_ieee!\n",
      "pglib_opf_case3_lmbd has all unique branches.\n"
     ]
    },
    {
     "name": "stderr",
     "output_type": "stream",
     "text": [
      "pglib_opf_case89_pegase:  31%|██████████████▎                               | 18/58 [00:03<00:06,  5.96it/s]"
     ]
    },
    {
     "name": "stdout",
     "output_type": "stream",
     "text": [
      "246 non unique branches detected for pglib_opf_case4661_sdet!\n",
      "4 non unique branches detected for pglib_opf_case89_pegase!\n"
     ]
    },
    {
     "name": "stderr",
     "output_type": "stream",
     "text": [
      "pglib_opf_case2737sop_k:  34%|███████████████▊                              | 20/58 [00:03<00:05,  6.78it/s]"
     ]
    },
    {
     "name": "stdout",
     "output_type": "stream",
     "text": [
      "6 non unique branches detected for pglib_opf_case2737sop_k!\n"
     ]
    },
    {
     "name": "stderr",
     "output_type": "stream",
     "text": [
      "pglib_opf_case2000_goc:  38%|█████████████████▊                             | 22/58 [00:04<00:05,  6.07it/s]"
     ]
    },
    {
     "name": "stdout",
     "output_type": "stream",
     "text": [
      "334 non unique branches detected for pglib_opf_case2848_rte!\n",
      "827 non unique branches detected for pglib_opf_case2000_goc!\n"
     ]
    },
    {
     "name": "stderr",
     "output_type": "stream",
     "text": [
      "pglib_opf_case197_snem:  38%|█████████████████▊                             | 22/58 [00:04<00:05,  6.07it/s]"
     ]
    },
    {
     "name": "stdout",
     "output_type": "stream",
     "text": [
      "pglib_opf_case200_activ has all unique branches.\n",
      "63 non unique branches detected for pglib_opf_case197_snem!\n"
     ]
    },
    {
     "name": "stderr",
     "output_type": "stream",
     "text": [
      "pglib_opf_case30_ieee:  43%|████████████████████▋                           | 25/58 [00:04<00:05,  6.25it/s]"
     ]
    },
    {
     "name": "stdout",
     "output_type": "stream",
     "text": [
      "938 non unique branches detected for pglib_opf_case6470_rte!\n",
      "pglib_opf_case30_ieee has all unique branches.\n"
     ]
    },
    {
     "name": "stderr",
     "output_type": "stream",
     "text": [
      "pglib_opf_case14_ieee:  47%|██████████████████████▎                         | 27/58 [00:04<00:04,  6.65it/s]"
     ]
    },
    {
     "name": "stdout",
     "output_type": "stream",
     "text": [
      "6 non unique branches detected for pglib_opf_case3012wp_k!\n",
      "pglib_opf_case14_ieee has all unique branches.\n"
     ]
    },
    {
     "name": "stderr",
     "output_type": "stream",
     "text": [
      "pglib_opf_case24_ieee_rts:  50%|██████████████████████                      | 29/58 [00:05<00:04,  6.21it/s]"
     ]
    },
    {
     "name": "stdout",
     "output_type": "stream",
     "text": [
      "539 non unique branches detected for pglib_opf_case4917_goc!\n",
      "4 non unique branches detected for pglib_opf_case24_ieee_rts!\n"
     ]
    },
    {
     "name": "stderr",
     "output_type": "stream",
     "text": [
      "pglib_opf_case30_as:  53%|██████████████████████████▋                       | 31/58 [00:05<00:04,  6.04it/s]"
     ]
    },
    {
     "name": "stdout",
     "output_type": "stream",
     "text": [
      "899 non unique branches detected for pglib_opf_case4020_goc!\n",
      "pglib_opf_case30_as has all unique branches.\n"
     ]
    },
    {
     "name": "stderr",
     "output_type": "stream",
     "text": [
      "pglib_opf_case4601_goc:  57%|██████████████████████████▋                    | 33/58 [00:05<00:03,  6.67it/s]"
     ]
    },
    {
     "name": "stdout",
     "output_type": "stream",
     "text": [
      "894 non unique branches detected for pglib_opf_case4601_goc!\n"
     ]
    },
    {
     "name": "stderr",
     "output_type": "stream",
     "text": [
      "pglib_opf_case9591_goc:  59%|███████████████████████████▌                   | 34/58 [00:06<00:05,  4.34it/s]"
     ]
    },
    {
     "name": "stdout",
     "output_type": "stream",
     "text": [
      "1873 non unique branches detected for pglib_opf_case9591_goc!\n"
     ]
    },
    {
     "name": "stderr",
     "output_type": "stream",
     "text": [
      "pglib_opf_case3970_goc:  60%|████████████████████████████▎                  | 35/58 [00:06<00:06,  3.50it/s]"
     ]
    },
    {
     "name": "stdout",
     "output_type": "stream",
     "text": [
      "1600 non unique branches detected for pglib_opf_case7336_epigrids!\n",
      "929 non unique branches detected for pglib_opf_case3970_goc!\n"
     ]
    },
    {
     "name": "stderr",
     "output_type": "stream",
     "text": [
      "pglib_opf_case73_ieee_rts:  62%|███████████████████████████▎                | 36/58 [00:07<00:05,  3.75it/s]"
     ]
    },
    {
     "name": "stdout",
     "output_type": "stream",
     "text": [
      "12 non unique branches detected for pglib_opf_case73_ieee_rts!\n"
     ]
    },
    {
     "name": "stderr",
     "output_type": "stream",
     "text": [
      "pglib_opf_case2312_goc:  67%|███████████████████████████████▌               | 39/58 [00:07<00:04,  4.43it/s]"
     ]
    },
    {
     "name": "stdout",
     "output_type": "stream",
     "text": [
      "1143 non unique branches detected for pglib_opf_case4837_goc!\n",
      "183 non unique branches detected for pglib_opf_case2312_goc!\n"
     ]
    },
    {
     "name": "stderr",
     "output_type": "stream",
     "text": [
      "pglib_opf_case588_sdet:  67%|███████████████████████████████▌               | 39/58 [00:07<00:04,  4.43it/s]"
     ]
    },
    {
     "name": "stdout",
     "output_type": "stream",
     "text": [
      "9 non unique branches detected for pglib_opf_case588_sdet!\n"
     ]
    },
    {
     "name": "stderr",
     "output_type": "stream",
     "text": [
      "pglib_opf_case118_ieee:  71%|█████████████████████████████████▏             | 41/58 [00:07<00:03,  5.20it/s]"
     ]
    },
    {
     "name": "stdout",
     "output_type": "stream",
     "text": [
      "268 non unique branches detected for pglib_opf_case3022_goc!\n",
      "7 non unique branches detected for pglib_opf_case118_ieee!\n"
     ]
    },
    {
     "name": "stderr",
     "output_type": "stream",
     "text": [
      "pglib_opf_case6515_rte:  74%|██████████████████████████████████▊            | 43/58 [00:08<00:03,  4.97it/s]"
     ]
    },
    {
     "name": "stdout",
     "output_type": "stream",
     "text": [
      "932 non unique branches detected for pglib_opf_case6515_rte!\n"
     ]
    },
    {
     "name": "stderr",
     "output_type": "stream",
     "text": [
      "pglib_opf_case179_goc:  76%|████████████████████████████████████▍           | 44/58 [00:08<00:03,  3.72it/s]"
     ]
    },
    {
     "name": "stdout",
     "output_type": "stream",
     "text": [
      "1541 non unique branches detected for pglib_opf_case8387_pegase!\n",
      "41 non unique branches detected for pglib_opf_case179_goc!\n"
     ]
    },
    {
     "name": "stderr",
     "output_type": "stream",
     "text": [
      "pglib_opf_case300_ieee:  79%|█████████████████████████████████████▎         | 46/58 [00:09<00:02,  4.65it/s]"
     ]
    },
    {
     "name": "stdout",
     "output_type": "stream",
     "text": [
      "6 non unique branches detected for pglib_opf_case2736sp_k!\n",
      "2 non unique branches detected for pglib_opf_case300_ieee!\n"
     ]
    },
    {
     "name": "stderr",
     "output_type": "stream",
     "text": [
      "pglib_opf_case9241_pegase:  83%|████████████████████████████████████▍       | 48/58 [00:09<00:02,  3.91it/s]"
     ]
    },
    {
     "name": "stdout",
     "output_type": "stream",
     "text": [
      "1817 non unique branches detected for pglib_opf_case9241_pegase!\n"
     ]
    },
    {
     "name": "stderr",
     "output_type": "stream",
     "text": [
      "pglib_opf_case162_ieee_dtc:  84%|████████████████████████████████████▎      | 49/58 [00:10<00:02,  3.52it/s]"
     ]
    },
    {
     "name": "stdout",
     "output_type": "stream",
     "text": [
      "813 non unique branches detected for pglib_opf_case4619_goc!\n",
      "4 non unique branches detected for pglib_opf_case162_ieee_dtc!\n"
     ]
    },
    {
     "name": "stderr",
     "output_type": "stream",
     "text": [
      "pglib_opf_case1951_rte:  90%|██████████████████████████████████████████▏    | 52/58 [00:10<00:01,  4.78it/s]"
     ]
    },
    {
     "name": "stdout",
     "output_type": "stream",
     "text": [
      "6 non unique branches detected for pglib_opf_case2746wp_k!\n",
      "221 non unique branches detected for pglib_opf_case1951_rte!\n"
     ]
    },
    {
     "name": "stderr",
     "output_type": "stream",
     "text": [
      "pglib_opf_case2742_goc:  91%|██████████████████████████████████████████▉    | 53/58 [00:10<00:01,  4.68it/s]"
     ]
    },
    {
     "name": "stdout",
     "output_type": "stream",
     "text": [
      "668 non unique branches detected for pglib_opf_case2742_goc!\n"
     ]
    },
    {
     "name": "stderr",
     "output_type": "stream",
     "text": [
      "pglib_opf_case1888_rte:  95%|████████████████████████████████████████████▌  | 55/58 [00:11<00:00,  4.36it/s]"
     ]
    },
    {
     "name": "stdout",
     "output_type": "stream",
     "text": [
      "934 non unique branches detected for pglib_opf_case6468_rte!\n",
      "223 non unique branches detected for pglib_opf_case1888_rte!\n"
     ]
    },
    {
     "name": "stderr",
     "output_type": "stream",
     "text": [
      "pglib_opf_case1803_snem:  98%|█████████████████████████████████████████████▏| 57/58 [00:11<00:00,  5.38it/s]"
     ]
    },
    {
     "name": "stdout",
     "output_type": "stream",
     "text": [
      "281 non unique branches detected for pglib_opf_case1354_pegase!\n",
      "583 non unique branches detected for pglib_opf_case1803_snem!\n"
     ]
    },
    {
     "name": "stderr",
     "output_type": "stream",
     "text": [
      "pglib_opf_case793_goc: 100%|████████████████████████████████████████████████| 58/58 [00:11<00:00,  5.00it/s]"
     ]
    },
    {
     "name": "stdout",
     "output_type": "stream",
     "text": [
      "9 non unique branches detected for pglib_opf_case793_goc!\n"
     ]
    },
    {
     "name": "stderr",
     "output_type": "stream",
     "text": [
      "\n"
     ]
    }
   ],
   "source": [
    "# get all cases in current directory\n",
    "current_directory = os.getcwd()+'/'\n",
    "# current_directory = '/home/sbose/pglib-opf/' # for running on BEBOP\n",
    "all_files_and_directories = os.listdir(current_directory)\n",
    "case_files = [os.path.join(current_directory, f) for f in all_files_and_directories if f.endswith('.m') and os.path.isfile(os.path.join(current_directory, f))]\n",
    "\n",
    "cases, casenames = [], []\n",
    "cases_ext = []\n",
    "cases_full, casenames_full = [], []\n",
    "for cf in (t:=tqdm(case_files)):\n",
    "    try:\n",
    "        octave.source(current_directory+os.path.basename(cf))\n",
    "    except:\n",
    "        continue\n",
    "    cname = os.path.basename(cf).split('.')[0]\n",
    "    num_buses = None\n",
    "    # determine number of buses in the case from its name\n",
    "    for ci in cname.split('_'):\n",
    "        if 'case' in ci:\n",
    "            num_buses = int(''.join([chr for chr in ci.replace('case','',1) if chr.isdigit()]))\n",
    "    \n",
    "    # fitler out cases with more buses than MAX_BUS\n",
    "    if num_buses <= MAX_BUS:\n",
    "        # convert to internal indexing\n",
    "        case_orig = loadcase(octave.feval(cname))\n",
    "        case_correct_idx = ext2int(case_orig)\n",
    "        # check for repeated branches\n",
    "        buslist = [(f,t) for f,t in zip(case_correct_idx['branch'][:,F_BUS],case_correct_idx['branch'][:,T_BUS])]\n",
    "        if len(buslist) != len(set(buslist)):\n",
    "            print(f\"{len(buslist)-len(set(buslist))} non unique branches detected for {cname}!\")\n",
    "        else:\n",
    "            print(f\"{cname} has all unique branches.\")\n",
    "        # append\n",
    "        cases_ext.append(cases)\n",
    "        cases.append(case_correct_idx)\n",
    "        casenames.append(cname)\n",
    "    t.set_description(cname)"
   ]
  },
  {
   "cell_type": "code",
   "execution_count": 3,
   "metadata": {},
   "outputs": [],
   "source": [
    "# tailoring to only three cases\n",
    "idx1 = casenames.index('pglib_opf_case2312_goc')\n",
    "# idx2 = casenames.index('pglib_opf_case4661_sdet')\n",
    "# idx3 = casenames.index('pglib_opf_case10000_goc')\n",
    "casenames = [casenames[cidx] for cidx in [idx1]]\n",
    "cases = [cases[cidx] for cidx in [idx1]]"
   ]
  },
  {
   "cell_type": "code",
   "execution_count": 4,
   "metadata": {},
   "outputs": [
    {
     "name": "stderr",
     "output_type": "stream",
     "text": [
      "0it [00:00, ?it/s]"
     ]
    },
    {
     "name": "stdout",
     "output_type": "stream",
     "text": [
      "RepeatedSet: Variable ('rSf', 8623) already set!\n",
      "RepeatedSet: Constraint ('balance_real', 245) already set!\n"
     ]
    },
    {
     "name": "stderr",
     "output_type": "stream",
     "text": [
      "\n"
     ]
    },
    {
     "ename": "IndexError",
     "evalue": "obus is [249, 250, 250, 255, 261, 222]. Error!",
     "output_type": "error",
     "traceback": [
      "\u001b[0;31m---------------------------------------------------------------------------\u001b[0m",
      "\u001b[0;31mIndexError\u001b[0m                                Traceback (most recent call last)",
      "Cell \u001b[0;32mIn[4], line 2\u001b[0m\n\u001b[1;32m      1\u001b[0m \u001b[38;5;28;01mfor\u001b[39;00m cn,c,ci \u001b[38;5;129;01min\u001b[39;00m tqdm(\u001b[38;5;28mzip\u001b[39m(casenames,cases,\u001b[38;5;28mrange\u001b[39m(\u001b[38;5;28mlen\u001b[39m(cases)))):\n\u001b[0;32m----> 2\u001b[0m     obj \u001b[38;5;241m=\u001b[39m \u001b[43mopfSocp\u001b[49m\u001b[43m(\u001b[49m\u001b[43mc\u001b[49m\u001b[43m)\u001b[49m\n\u001b[1;32m      3\u001b[0m     cub, clb \u001b[38;5;241m=\u001b[39m obj\u001b[38;5;241m.\u001b[39mcalc_cons_bounds()\n\u001b[1;32m      4\u001b[0m     xub, xlb \u001b[38;5;241m=\u001b[39m obj\u001b[38;5;241m.\u001b[39mcalc_var_bounds()\n",
      "File \u001b[0;32m~/shourya/presolve/pglib-opf/problemDefJITP.py:31\u001b[0m, in \u001b[0;36mopfSocp.__init__\u001b[0;34m(self, ppc, casename)\u001b[0m\n\u001b[1;32m     29\u001b[0m \u001b[38;5;28mself\u001b[39m\u001b[38;5;241m.\u001b[39mnodeAndEdgeAttr()\n\u001b[1;32m     30\u001b[0m \u001b[38;5;28mself\u001b[39m\u001b[38;5;241m.\u001b[39mgenerateIndices()\n\u001b[0;32m---> 31\u001b[0m \u001b[38;5;28;43mself\u001b[39;49m\u001b[38;5;241;43m.\u001b[39;49m\u001b[43msaveJacobianStructure\u001b[49m\u001b[43m(\u001b[49m\u001b[43m)\u001b[49m\n\u001b[1;32m     32\u001b[0m \u001b[38;5;28mself\u001b[39m\u001b[38;5;241m.\u001b[39mjacobianJIT()\n\u001b[1;32m     33\u001b[0m \u001b[38;5;28mself\u001b[39m\u001b[38;5;241m.\u001b[39mhessianJIT()\n",
      "File \u001b[0;32m~/shourya/presolve/pglib-opf/problemDefJITP.py:180\u001b[0m, in \u001b[0;36mopfSocp.saveJacobianStructure\u001b[0;34m(self)\u001b[0m\n\u001b[1;32m    178\u001b[0m     jacidx \u001b[38;5;241m=\u001b[39m set_jacidx_expr(jacidx,[cons_counter,\u001b[38;5;28mself\u001b[39m\u001b[38;5;241m.\u001b[39mvidx[\u001b[38;5;124m'\u001b[39m\u001b[38;5;124mrSf\u001b[39m\u001b[38;5;124m'\u001b[39m][br_a[\u001b[38;5;124m'\u001b[39m\u001b[38;5;124midx\u001b[39m\u001b[38;5;124m'\u001b[39m]]])\n\u001b[1;32m    179\u001b[0m     \u001b[38;5;28;01mif\u001b[39;00m jacidx \u001b[38;5;129;01mis\u001b[39;00m \u001b[38;5;28;01mNone\u001b[39;00m:\n\u001b[0;32m--> 180\u001b[0m         \u001b[38;5;28;01mraise\u001b[39;00m \u001b[38;5;167;01mIndexError\u001b[39;00m(\u001b[38;5;124mf\u001b[39m\u001b[38;5;124m\"\u001b[39m\u001b[38;5;124mobus is \u001b[39m\u001b[38;5;132;01m{\u001b[39;00m\u001b[38;5;28mself\u001b[39m\u001b[38;5;241m.\u001b[39mout_bus[busid]\u001b[38;5;132;01m}\u001b[39;00m\u001b[38;5;124m. Error!\u001b[39m\u001b[38;5;124m\"\u001b[39m)\n\u001b[1;32m    181\u001b[0m     n_terms \u001b[38;5;241m+\u001b[39m\u001b[38;5;241m=\u001b[39m \u001b[38;5;241m1\u001b[39m\n\u001b[1;32m    182\u001b[0m \u001b[38;5;66;03m# add contribution from 'to' buses\u001b[39;00m\n",
      "\u001b[0;31mIndexError\u001b[0m: obus is [249, 250, 250, 255, 261, 222]. Error!"
     ]
    }
   ],
   "source": [
    "for cn,c,ci in tqdm(zip(casenames,cases,range(len(cases)))):\n",
    "    obj = opfSocp(c)\n",
    "    cub, clb = obj.calc_cons_bounds()\n",
    "    xub, xlb = obj.calc_var_bounds()\n",
    "    prob = cyipopt.Problem(\n",
    "        n = obj.in_size,\n",
    "        m = obj.cons_size,\n",
    "        problem_obj=obj,\n",
    "        lb=xlb,\n",
    "        ub=xub,\n",
    "        cl=clb,\n",
    "        cu=cub\n",
    "    )\n",
    "    prob.add_option('tol',1e-6)\n",
    "    prob.add_option('max_iter',2500)\n",
    "    prob.add_option('mumps_mem_percent',25000)\n",
    "    prob.add_option('mu_max',1e-1)\n",
    "    prob.add_option('mu_init',1e-1)\n",
    "    x, info = prob.solve(obj.calc_x0_flatstart())"
   ]
  },
  {
   "cell_type": "code",
   "execution_count": null,
   "metadata": {},
   "outputs": [],
   "source": [
    "# # compare all methods\n",
    "# results = [{'jsoc_va':[],'jsoc_sf':[],'jsoc_st':[],'jsoc_pg':[],'jsoc_qg':[],\n",
    "#             'jnl_va':[],'jnl_sf':[],'jnl_st':[],'jnl_pg':[],'jnl_qg':[],\n",
    "#             'soc_va':[],'soc_sf':[],'soc_st':[],'soc_pg':[],'soc_qg':[],\n",
    "#             'nl_va':[],'nl_sf':[],'nl_st':[],'nl_pg':[],'nl_qg':[],\n",
    "#             } for _ in casenames]\n",
    "\n",
    "# # make figure\n",
    "# fig, axs = plt.subplots(4, len(casenames), figsize=(6*4, 5*len(casenames)))\n",
    "\n",
    "# # delete temp.m if it already exists\n",
    "# if os.path.exists('temp.m'):\n",
    "#     os.remove('temp.m')\n",
    "\n",
    "# for cn,c,ci in tqdm(zip(casenames,cases,range(len(cases)))):\n",
    "#     # extract SOC solution and exclude cases for which it did not solve exactly\n",
    "#     with open(os.getcwd()+'/'+cn+'_socp_solved.pkl','rb') as file:\n",
    "#         dct_socp = pickle.load(file)\n",
    "#     SOCP_SOLVED = True if dct_socp['info'] == 0 else False # whether case was solved to local minima\n",
    "#     socpObj = opfSocp(c)\n",
    "#     U_socp, W_socp, Sg_socp, Sf_socp, St_socp = dct_socp['U'], dct_socp['W'], dct_socp['Sg'], dct_socp['Sf'], dct_socp['St']\n",
    "#     # extract vmag, Sf, St, Pg, Qg, fmax from the loaded case\n",
    "#     vm_socp = np.sqrt(U_socp)\n",
    "#     Pg_socp, Qg_socp = Sg_socp.real, Sg_socp.imag\n",
    "#     fmax_socp = socpObj.flow_lim\n",
    "#     # extract MATPOWER nl solution \n",
    "#     with open(os.getcwd()+'/'+cn+'_solved.pkl','rb') as file:\n",
    "#         dct_nl = pickle.load(file)\n",
    "#     dct_nl = ext2int(dct_nl) # convert into internal indexing\n",
    "#     # extract vmag, Sf, St, Pg, Qg, fmax from the loaded case\n",
    "#     vm_nl = dct_nl['bus'][:,VM]\n",
    "#     Sf_nl = (dct_nl['branch'][:,PF] + 1j * dct_nl['branch'][:,QF]) / dct_nl['baseMVA']\n",
    "#     St_nl = (dct_nl['branch'][:,PT] + 1j * dct_nl['branch'][:,QT]) / dct_nl['baseMVA']\n",
    "#     Pg_nl, Qg_nl = dct_nl['gen'][:,PG] / dct_nl['baseMVA'], dct_nl['gen'][:,QG] / dct_nl['baseMVA']\n",
    "#     fmax_nl = dct_nl['branch'][:,RATE_A] / dct_nl['baseMVA']\n",
    "#     # extract Julia socp solution\n",
    "#     with open(os.getcwd()+'/'+cn+'_julia_soc_solved.json','rb') as file:\n",
    "#         dct_jsocp = json.load(file)\n",
    "#     # dump output to text file\n",
    "#     with open('temp.m','w') as file:\n",
    "#         file.write(dct_jsocp)\n",
    "#     dct_jsocp = ext2int(octave.feval('temp.m')) # convert into internal indexing\n",
    "#     os.remove('temp.m') # delete temporary .m file\n",
    "#     vm_jsocp = dct_jsocp['bus'][:,VM]\n",
    "#     Sf_jsocp = (dct_jsocp['branch'][:,PF] + 1j * dct_jsocp['branch'][:,QF]) / dct_jsocp['baseMVA']\n",
    "#     St_jsocp = (dct_jsocp['branch'][:,PT] + 1j * dct_jsocp['branch'][:,QT]) / dct_jsocp['baseMVA']\n",
    "#     Pg_jscop, Qg_jsocp = dct_jsocp['gen'][:,PG] / dct_jsocp['baseMVA'], dct_jsocp['gen'][:,QG] / dct_jsocp['baseMVA']\n",
    "#     fmax_jsocp = dct_jsocp['branch'][:,RATE_A] / dct_jsocp['baseMVA']\n",
    "#     # extract Julia nl solution\n",
    "#     with open(os.getcwd()+'/'+cn+'_julia_nl_solved.json','rb') as file:\n",
    "#         dct_jnl = json.load(file)\n",
    "#     # dump output to text file\n",
    "#     with open('temp.m','w') as file:\n",
    "#         file.write(dct_jnl)\n",
    "#     dct_jnl = ext2int(octave.feval('temp.m')) # convert into internal indexing\n",
    "#     os.remove('temp.m') # delete temporary .m file\n",
    "#     vm_jnl = dct_jnl['bus'][:,VM]\n",
    "#     Sf_jnl = (dct_jnl['branch'][:,PF] + 1j * dct_jnl['branch'][:,QF]) / dct_jnl['baseMVA']\n",
    "#     St_jnl = (dct_jnl['branch'][:,PT] + 1j * dct_jnl['branch'][:,QT]) / dct_jnl['baseMVA']\n",
    "#     Pg_jnl, Qg_jnl = dct_jnl['gen'][:,PG] / dct_jnl['baseMVA'], dct_jnl['gen'][:,QG] / dct_jnl['baseMVA']\n",
    "#     fmax_jnl = dct_jnl['branch'][:,RATE_A] / dct_jnl['baseMVA']"
   ]
  },
  {
   "cell_type": "code",
   "execution_count": null,
   "metadata": {},
   "outputs": [
    {
     "data": {
      "text/plain": [
       "732"
      ]
     },
     "execution_count": 11,
     "metadata": {},
     "output_type": "execute_result"
    }
   ],
   "source": [
    "101492 - 100760"
   ]
  },
  {
   "cell_type": "code",
   "execution_count": null,
   "metadata": {},
   "outputs": [
    {
     "data": {
      "text/plain": [
       "array([1, 2, 3, 3, 3])"
      ]
     },
     "execution_count": 8,
     "metadata": {},
     "output_type": "execute_result"
    }
   ],
   "source": [
    "np.repeat([1,2,3],[1,1,3])"
   ]
  },
  {
   "cell_type": "code",
   "execution_count": null,
   "metadata": {},
   "outputs": [
    {
     "data": {
      "text/plain": [
       "array([1, 2, 2])"
      ]
     },
     "execution_count": 12,
     "metadata": {},
     "output_type": "execute_result"
    }
   ],
   "source": [
    "np.repeat([1,1,2],[0,1,2])"
   ]
  },
  {
   "cell_type": "code",
   "execution_count": null,
   "metadata": {},
   "outputs": [
    {
     "data": {
      "text/plain": [
       "226"
      ]
     },
     "execution_count": 7,
     "metadata": {},
     "output_type": "execute_result"
    }
   ],
   "source": [
    "obj.n_gen"
   ]
  },
  {
   "cell_type": "code",
   "execution_count": null,
   "metadata": {},
   "outputs": [
    {
     "data": {
      "text/plain": [
       "31741"
      ]
     },
     "execution_count": 7,
     "metadata": {},
     "output_type": "execute_result"
    }
   ],
   "source": [
    "obj.num_indices_per_constr.size"
   ]
  },
  {
   "cell_type": "code",
   "execution_count": null,
   "metadata": {},
   "outputs": [
    {
     "data": {
      "text/plain": [
       "(101492,)"
      ]
     },
     "execution_count": 9,
     "metadata": {},
     "output_type": "execute_result"
    }
   ],
   "source": [
    "np.repeat(obj.active_constr,obj.num_indices_per_constr).shape"
   ]
  },
  {
   "cell_type": "code",
   "execution_count": null,
   "metadata": {},
   "outputs": [
    {
     "data": {
      "text/plain": [
       "100760"
      ]
     },
     "execution_count": 12,
     "metadata": {},
     "output_type": "execute_result"
    }
   ],
   "source": [
    "obj.jac_const.size"
   ]
  },
  {
   "cell_type": "code",
   "execution_count": null,
   "metadata": {},
   "outputs": [
    {
     "data": {
      "text/plain": [
       "100760"
      ]
     },
     "execution_count": 14,
     "metadata": {},
     "output_type": "execute_result"
    }
   ],
   "source": [
    "len(obj.jac_coeff)"
   ]
  },
  {
   "cell_type": "code",
   "execution_count": null,
   "metadata": {},
   "outputs": [],
   "source": []
  }
 ],
 "metadata": {
  "kernelspec": {
   "display_name": "Python 3 (ipykernel)",
   "language": "python",
   "name": "python3"
  },
  "language_info": {
   "codemirror_mode": {
    "name": "ipython",
    "version": 3
   },
   "file_extension": ".py",
   "mimetype": "text/x-python",
   "name": "python",
   "nbconvert_exporter": "python",
   "pygments_lexer": "ipython3",
   "version": "3.10.13"
  }
 },
 "nbformat": 4,
 "nbformat_minor": 2
}
