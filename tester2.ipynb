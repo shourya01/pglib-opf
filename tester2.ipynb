{
 "cells": [
  {
   "cell_type": "code",
   "execution_count": 4,
   "metadata": {},
   "outputs": [],
   "source": [
    "from pypower.api import loadcase, runopf, ppoption\n",
    "from pypower.idx_brch import *\n",
    "from pypower.idx_bus import *\n",
    "from pypower.idx_gen import *\n",
    "from pypower.idx_cost import *\n",
    "from pypower.ext2int import ext2int\n",
    "import oct2py\n",
    "import numpy as np\n",
    "import math\n",
    "import os\n",
    "from tqdm import tqdm\n",
    "from oct2py import Oct2Py\n",
    "octave = Oct2Py()\n",
    "import matplotlib.pyplot as plt\n",
    "import matplotlib.ticker as ticker\n",
    "import networkx as nx\n",
    "import pickle\n",
    "import shutil\n",
    "import cvxpy as cp\n",
    "if shutil.which('latex') is None:\n",
    "    LATEX_AVAILABLE = False\n",
    "else:\n",
    "    LATEX_AVAILABLE = True\n",
    "if LATEX_AVAILABLE:\n",
    "    plt.rcParams['font.size'] = 14\n",
    "    plt.rcParams['text.usetex'] = True\n",
    "    plt.rcParams['text.latex.preamble'] = r'\\usepackage{amsmath,amssymb}'\n",
    "    \n",
    "MAX_BUS = 1500 # upper limit of number of buses in cases to be considered"
   ]
  },
  {
   "cell_type": "code",
   "execution_count": 5,
   "metadata": {},
   "outputs": [
    {
     "name": "stderr",
     "output_type": "stream",
     "text": [
      "100%|██████████████████████████████████████████████████████████████████████████████████████████████████████████████████████████████████████████████████████████████████████████████████████████████████████████████████████████████████████████████████████| 66/66 [00:39<00:00,  1.69it/s]\n"
     ]
    }
   ],
   "source": [
    "# get all cases in current directory\n",
    "current_directory = os.getcwd()\n",
    "all_files_and_directories = os.listdir(current_directory)\n",
    "case_files = [os.path.join(current_directory, f) for f in all_files_and_directories if f.endswith('.m') and os.path.isfile(os.path.join(current_directory, f))]\n",
    "\n",
    "cases, casenames = [], []\n",
    "cases_full, casenames_full = [], []\n",
    "for cf in (t:=tqdm(case_files)):\n",
    "    octave.source(os.path.basename(cf))\n",
    "    cname = os.path.basename(cf).split('.')[0]\n",
    "    num_buses = None\n",
    "    # determine number of buses in the case from its name\n",
    "    for ci in cname.split('_'):\n",
    "        if 'case' in ci:\n",
    "            num_buses = int(''.join([chr for chr in ci.replace('case','',1) if chr.isdigit()]))\n",
    "    # fitler out cases with more buses than MAX_BUS\n",
    "    if num_buses <= MAX_BUS:\n",
    "        # convert to internal indexing\n",
    "        case_correct_idx = ext2int(loadcase(octave.feval(cname)))\n",
    "        # append\n",
    "        cases.append(case_correct_idx)\n",
    "        casenames.append(cname)"
   ]
  },
  {
   "cell_type": "code",
   "execution_count": 6,
   "metadata": {},
   "outputs": [
    {
     "name": "stdout",
     "output_type": "stream",
     "text": [
      "Status of constraints:\n",
      "        DISABLE_MODEL: False\n",
      "        DISABLE_FLOWLIMS: True\n",
      "        DISABLE_ANG: False\n",
      "        DISABLE_SOCR: False\n",
      "        DISABLE_BALANCE: False\n",
      "        DISABLE_VLIMS: False\n",
      "        DISABLE_GENLIMS: False\n",
      "        \n"
     ]
    },
    {
     "name": "stderr",
     "output_type": "stream",
     "text": [
      "0it [00:00, ?it/s]"
     ]
    },
    {
     "name": "stderr",
     "output_type": "stream",
     "text": [
      "1it [00:02,  2.31s/it]"
     ]
    },
    {
     "name": "stdout",
     "output_type": "stream",
     "text": [
      "pglib_opf_case60_c solved!\n",
      "\n"
     ]
    },
    {
     "name": "stderr",
     "output_type": "stream",
     "text": [
      "2it [00:03,  1.65s/it]"
     ]
    },
    {
     "name": "stdout",
     "output_type": "stream",
     "text": [
      "pglib_opf_case39_epri solved!\n",
      "\n"
     ]
    },
    {
     "name": "stderr",
     "output_type": "stream",
     "text": [
      "3it [00:14,  6.04s/it]"
     ]
    },
    {
     "name": "stdout",
     "output_type": "stream",
     "text": [
      "pglib_opf_case240_pserc solved!\n",
      "\n"
     ]
    },
    {
     "name": "stderr",
     "output_type": "stream",
     "text": [
      "4it [00:15,  3.77s/it]"
     ]
    },
    {
     "name": "stdout",
     "output_type": "stream",
     "text": [
      "pglib_opf_case5_pjm solved!\n",
      "\n"
     ]
    },
    {
     "name": "stderr",
     "output_type": "stream",
     "text": [
      "5it [00:34,  9.38s/it]"
     ]
    },
    {
     "name": "stdout",
     "output_type": "stream",
     "text": [
      "pglib_opf_case500_goc solved!\n",
      "\n"
     ]
    },
    {
     "name": "stderr",
     "output_type": "stream",
     "text": [
      "6it [00:36,  6.77s/it]"
     ]
    },
    {
     "name": "stdout",
     "output_type": "stream",
     "text": [
      "pglib_opf_case57_ieee encountered solver error!\n",
      "\n",
      "pglib_opf_case3_lmbd solved!\n",
      "\n"
     ]
    },
    {
     "name": "stderr",
     "output_type": "stream",
     "text": [
      "8it [00:40,  4.61s/it]"
     ]
    },
    {
     "name": "stdout",
     "output_type": "stream",
     "text": [
      "pglib_opf_case89_pegase not solved!\n",
      "\n"
     ]
    },
    {
     "name": "stderr",
     "output_type": "stream",
     "text": [
      "9it [00:47,  5.15s/it]"
     ]
    },
    {
     "name": "stdout",
     "output_type": "stream",
     "text": [
      "pglib_opf_case200_activ solved!\n",
      "\n"
     ]
    },
    {
     "name": "stderr",
     "output_type": "stream",
     "text": [
      "10it [00:54,  5.74s/it]"
     ]
    },
    {
     "name": "stdout",
     "output_type": "stream",
     "text": [
      "pglib_opf_case197_snem solved!\n",
      "\n"
     ]
    },
    {
     "name": "stderr",
     "output_type": "stream",
     "text": [
      "11it [00:55,  4.38s/it]"
     ]
    },
    {
     "name": "stdout",
     "output_type": "stream",
     "text": [
      "pglib_opf_case30_ieee solved!\n",
      "\n"
     ]
    },
    {
     "name": "stderr",
     "output_type": "stream",
     "text": [
      "12it [00:56,  3.24s/it]"
     ]
    },
    {
     "name": "stdout",
     "output_type": "stream",
     "text": [
      "pglib_opf_case14_ieee solved!\n",
      "\n"
     ]
    },
    {
     "name": "stderr",
     "output_type": "stream",
     "text": [
      "13it [00:56,  2.53s/it]"
     ]
    },
    {
     "name": "stdout",
     "output_type": "stream",
     "text": [
      "pglib_opf_case24_ieee_rts solved!\n",
      "\n"
     ]
    },
    {
     "name": "stderr",
     "output_type": "stream",
     "text": [
      "14it [00:57,  2.08s/it]"
     ]
    },
    {
     "name": "stdout",
     "output_type": "stream",
     "text": [
      "pglib_opf_case30_as solved!\n",
      "\n"
     ]
    },
    {
     "name": "stderr",
     "output_type": "stream",
     "text": [
      "15it [01:00,  2.37s/it]"
     ]
    },
    {
     "name": "stdout",
     "output_type": "stream",
     "text": [
      "pglib_opf_case73_ieee_rts solved!\n",
      "\n"
     ]
    },
    {
     "name": "stderr",
     "output_type": "stream",
     "text": [
      "16it [01:19,  7.16s/it]"
     ]
    },
    {
     "name": "stdout",
     "output_type": "stream",
     "text": [
      "pglib_opf_case588_sdet solved!\n",
      "\n"
     ]
    },
    {
     "name": "stderr",
     "output_type": "stream",
     "text": [
      "17it [01:25,  6.72s/it]"
     ]
    },
    {
     "name": "stdout",
     "output_type": "stream",
     "text": [
      "pglib_opf_case118_ieee solved!\n",
      "\n"
     ]
    },
    {
     "name": "stderr",
     "output_type": "stream",
     "text": [
      "18it [01:31,  6.62s/it]"
     ]
    },
    {
     "name": "stdout",
     "output_type": "stream",
     "text": [
      "pglib_opf_case179_goc not solved!\n",
      "\n"
     ]
    },
    {
     "name": "stderr",
     "output_type": "stream",
     "text": [
      "19it [01:41,  7.75s/it]"
     ]
    },
    {
     "name": "stdout",
     "output_type": "stream",
     "text": [
      "pglib_opf_case300_ieee not solved!\n",
      "\n"
     ]
    },
    {
     "name": "stderr",
     "output_type": "stream",
     "text": [
      "20it [01:49,  7.61s/it]"
     ]
    },
    {
     "name": "stdout",
     "output_type": "stream",
     "text": [
      "pglib_opf_case162_ieee_dtc solved!\n",
      "\n"
     ]
    },
    {
     "name": "stderr",
     "output_type": "stream",
     "text": [
      "21it [02:52, 24.14s/it]"
     ]
    },
    {
     "name": "stdout",
     "output_type": "stream",
     "text": [
      "pglib_opf_case1354_pegase solved!\n",
      "\n"
     ]
    },
    {
     "name": "stderr",
     "output_type": "stream",
     "text": [
      "22it [03:21,  9.18s/it]"
     ]
    },
    {
     "name": "stdout",
     "output_type": "stream",
     "text": [
      "pglib_opf_case793_goc solved!\n",
      "\n",
      "Solved 81.81818181818181 percent of cases.\n"
     ]
    },
    {
     "name": "stderr",
     "output_type": "stream",
     "text": [
      "\n"
     ]
    }
   ],
   "source": [
    "# this_case = cases[0]\n",
    "\n",
    "# CVXPY SWITCHES FOR ENABLING/DISABLING CONSTRAINTS\n",
    "DISABLE_MODEL = False\n",
    "DISABLE_FLOWLIMS = True\n",
    "DISABLE_ANG = False\n",
    "DISABLE_SOCR = False\n",
    "DISABLE_BALANCE = False\n",
    "DISABLE_VLIMS = False\n",
    "DISABLE_GENLIMS = False\n",
    "USE_ONE_AS_OBJ = False # use trivial objective function, i.e. 1\n",
    "print(f'''Status of constraints:\n",
    "        DISABLE_MODEL: {DISABLE_MODEL}\n",
    "        DISABLE_FLOWLIMS: {DISABLE_FLOWLIMS}\n",
    "        DISABLE_ANG: {DISABLE_ANG}\n",
    "        DISABLE_SOCR: {DISABLE_SOCR}\n",
    "        DISABLE_BALANCE: {DISABLE_BALANCE}\n",
    "        DISABLE_VLIMS: {DISABLE_VLIMS}\n",
    "        DISABLE_GENLIMS: {DISABLE_GENLIMS}\n",
    "        ''')\n",
    "\n",
    "# RECORDS FOR SOLVED AND UNSOLVED\n",
    "solved, unsolved = 0,0\n",
    "\n",
    "for cn,this_case in tqdm(zip(casenames,cases)):\n",
    "    \n",
    "    # LOAD DATA\n",
    "    # baseMVA\n",
    "    baseMVA = this_case['baseMVA']\n",
    "    # bus data\n",
    "    bus_list = this_case['bus'][:,BUS_I].astype(int)\n",
    "    bus_vmin, bus_vmax = this_case['bus'][:,VMIN], this_case['bus'][:,VMAX]\n",
    "    bus_pd, bus_qd = this_case['bus'][:,PD], this_case['bus'][:,QD]\n",
    "    bus_gs, bus_bs = this_case['bus'][:,GS], this_case['bus'][:,BS]\n",
    "    # branches\n",
    "    from_bus = this_case['branch'][:,F_BUS]\n",
    "    to_bus = this_case['branch'][:,T_BUS]\n",
    "    br_r = this_case['branch'][:,BR_R]\n",
    "    br_x = this_case['branch'][:,BR_X]\n",
    "    br_b = this_case['branch'][:,BR_B]\n",
    "    tap = this_case['branch'][:,TAP]\n",
    "    shift = this_case['branch'][:,SHIFT]\n",
    "    angmin, angmax = this_case['branch'][:,ANGMIN], this_case['branch'][:,ANGMAX]\n",
    "    flow_lim = this_case['branch'][:,RATE_A]\n",
    "    branch_list = [((f,t),(t,f),l) for f,t,l in zip(from_bus.astype(int),to_bus.astype(int),range(from_bus.size))] # forward and reversed graph\n",
    "    # generators\n",
    "    gen_to_bus = this_case['gen'][:,GEN_BUS]\n",
    "    gen_mbase = this_case['gen'][:,MBASE]\n",
    "    gen_pmax, gen_pmin = this_case['gen'][:,PMAX], this_case['gen'][:,PMIN]\n",
    "    gen_qmax, gen_qmin = this_case['gen'][:,QMAX], this_case['gen'][:,QMIN]\n",
    "    \n",
    "    # PRE-PROCESSING DATA\n",
    "    # normalization to pu\n",
    "    bus_pd, bus_qd, bus_gs, bus_bs, gen_pmax, gen_qmax, gen_pmin, gen_qmin, flow_lim = \\\n",
    "    bus_pd/baseMVA, bus_qd/baseMVA, bus_gs/baseMVA, bus_bs/baseMVA, gen_pmax/baseMVA, gen_qmax/baseMVA, gen_pmin/baseMVA, gen_qmin/baseMVA, flow_lim/baseMVA\n",
    "    # insert 1 in tap ratios\n",
    "    tap = np.where(np.abs(tap)<1e-5,1.,tap)\n",
    "    # convert angle limits to radians\n",
    "    angmin, angmax = np.radians(angmin), np.radians(angmax)\n",
    "    # convert 0 flow lims to large number\n",
    "    flow_lim = np.where(np.abs(flow_lim)<1e-5,10000.,flow_lim)\n",
    "    \n",
    "    # LAMBDA HELPER FUNCTIONS\n",
    "    gen_on_bus = lambda i: np.where(gen_to_bus == i)[0] # return list og gens attached to bus\n",
    "    out_lines = lambda i: np.array([w[2] if w[0][0]==i else np.inf for w in branch_list])[np.array([w[2] if w[0][0]==i else np.inf for w in branch_list])!=np.inf].astype(int)\n",
    "    in_lines = lambda i: np.array([w[2] if w[0][1]==i else np.inf for w in branch_list])[np.array([w[2] if w[0][1]==i else np.inf for w in branch_list])!=np.inf].astype(int)\n",
    "    \n",
    "    # NUMBER OF DIFFERENT ELEMENTS\n",
    "    n_bus = len(bus_list)\n",
    "    n_branch = len(branch_list)\n",
    "    n_gen = len(gen_to_bus)\n",
    "    \n",
    "    # CVXPY VARIABLES\n",
    "    Sf = cp.Variable(n_branch,complex=True) # p.u.\n",
    "    St = cp.Variable(n_branch,complex=True) # p.u.\n",
    "    Sgen = cp.Variable(n_gen,complex=True) # p.u.\n",
    "    U = cp.Variable(n_bus,nonneg=True) # p.u.\n",
    "    W = cp.Variable(n_branch,complex=True) # p.u.\n",
    "    \n",
    "    # CVXPY CONSTRAINTS\n",
    "    constr = []\n",
    "    # bus constraints (non-balance)\n",
    "    for busid in bus_list:\n",
    "        if not DISABLE_VLIMS:\n",
    "            constr.append(U[busid] <= bus_vmax[busid]**2)\n",
    "            constr.append(U[busid] >= bus_vmin[busid]**2)\n",
    "    # branch constraints\n",
    "    for br in branch_list:\n",
    "        brf, brr, brid = br\n",
    "        yl, b = 1 / (br_r[brid] + 1j * br_x[brid]), br_b[brid]\n",
    "        tl = tap[brid] * (math.cos(shift[brid]) + 1j * math.sin(shift[brid]))\n",
    "        yff, ytt, yft, ytf = (yl + 1j * (b/2)) / (tl*tl.conjugate()) , (yl + 1j * (b/2)), - yl / tl.conjugate(), -yl / tl\n",
    "        if not DISABLE_MODEL:\n",
    "            # forward and reverse flows\n",
    "            frm, to = brf[0], brf[1]\n",
    "            constr.append(Sf[brid] == yff.conjugate()*U[frm] + yft.conjugate()*W[brid])\n",
    "            constr.append(St[brid] == ytt.conjugate()*U[to] + ytf.conjugate()*cp.conj(W[brid]))\n",
    "        if not DISABLE_FLOWLIMS:\n",
    "            # flow limits\n",
    "            constr.append(cp.abs(Sf) <= flow_lim[brid])\n",
    "            constr.append(cp.abs(St) <= flow_lim[brid])\n",
    "        if not DISABLE_ANG:\n",
    "            # angle limits\n",
    "            constr.append(cp.imag(W[brid]) <= angmax[brid] * cp.real(W[brid]))\n",
    "            constr.append(cp.imag(W[brid]) >= angmin[brid] * cp.real(W[brid]))\n",
    "        if not DISABLE_SOCR:\n",
    "            # second order cones\n",
    "            frm, to = brf[0], brf[1]\n",
    "            constr.append(cp.norm(cp.hstack([U[frm]-U[to],2*cp.real(W[brid]),2*cp.imag(W[brid])]),2) <= U[frm]+U[to])\n",
    "    # generator constraints\n",
    "    if not DISABLE_GENLIMS:\n",
    "        constr.append(cp.real(Sgen) <= gen_pmax)\n",
    "        constr.append(cp.real(Sgen) >= gen_pmin)\n",
    "        constr.append(cp.imag(Sgen) <= gen_qmax)\n",
    "        constr.append(cp.imag(Sgen) >= gen_qmin)\n",
    "    else:\n",
    "        constr.append(cp.real(Sgen) >= gen_pmin)\n",
    "    # bus constraints (balance)\n",
    "    for busid in bus_list:\n",
    "        Sd = bus_pd[busid] + 1j * bus_qd[busid]\n",
    "        gens = gen_on_bus(busid)\n",
    "        Sgen_total = cp.sum([Sgen[gid] for gid in gens]) if gens.size > 0 else 0\n",
    "        Sf_total = cp.sum([Sf[brid] for brid in out_lines(busid)]) if out_lines(busid).size >0 else 0\n",
    "        St_total = cp.sum([St[brid] for brid in in_lines(busid)]) if in_lines(busid).size >0 else 0\n",
    "        Ys = bus_bs[busid] + 1j * bus_gs[busid]\n",
    "        if not DISABLE_BALANCE:\n",
    "            constr.append(Sgen_total - Sd - Ys*U[busid] == Sf_total + St_total)\n",
    "    obj = cp.Minimize(cp.sum(U))\n",
    "    prob = cp.Problem(obj,constr)\n",
    "    # solve problem and record results\n",
    "    try:\n",
    "        prob.solve(solver='MOSEK',verbose=False)\n",
    "        if prob.status not in ['infeasible','unbounded']:\n",
    "            print(f\"{cn} solved!\\n\")\n",
    "            solved += 1\n",
    "        else:\n",
    "            print(f\"{cn} not solved!\\n\")\n",
    "            unsolved += 1\n",
    "    except:\n",
    "        print(f\"{cn} encountered solver error!\\n\")\n",
    "        unsolved += 1\n",
    "\n",
    "# DISPLAY OUTCOME\n",
    "print(f\"Solved {100*solved/(solved+unsolved)} percent of cases.\")"
   ]
  }
 ],
 "metadata": {
  "kernelspec": {
   "display_name": "Python 3 (ipykernel)",
   "language": "python",
   "name": "python3"
  }
 },
 "nbformat": 4,
 "nbformat_minor": 2
}
