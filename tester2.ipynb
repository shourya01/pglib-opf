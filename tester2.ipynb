{
 "cells": [
  {
   "cell_type": "code",
   "execution_count": 30,
   "metadata": {},
   "outputs": [],
   "source": [
    "from pypower.api import loadcase, runopf, ppoption\n",
    "from pypower.idx_brch import *\n",
    "from pypower.idx_bus import *\n",
    "from pypower.idx_gen import *\n",
    "from pypower.idx_gencost import *\n",
    "import oct2py\n",
    "import numpy as np\n",
    "import os\n",
    "from tqdm import tqdm\n",
    "from oct2py import Oct2Py\n",
    "octave = Oct2Py()\n",
    "import matplotlib.pyplot as plt\n",
    "import matplotlib.ticker as ticker\n",
    "import networkx as nx\n",
    "import pickle\n",
    "import shutil\n",
    "import cvxpy as cp\n",
    "if shutil.which('latex') is None:\n",
    "    LATEX_AVAILABLE = False\n",
    "else:\n",
    "    LATEX_AVAILABLE = True\n",
    "if LATEX_AVAILABLE:\n",
    "    plt.rcParams['font.size'] = 14\n",
    "    plt.rcParams['text.usetex'] = True\n",
    "    plt.rcParams['text.latex.preamble'] = r'\\usepackage{amsmath,amssymb}'\n",
    "    \n",
    "MAX_BUS = 1000 # upper limit of number of buses in cases to be considered"
   ]
  },
  {
   "cell_type": "code",
   "execution_count": 3,
   "metadata": {},
   "outputs": [
    {
     "name": "stderr",
     "output_type": "stream",
     "text": [
      "Loaded pglib_opf_case793_goc.m: 100%|█████████████████████████████████████████████████████████████████████████████████████████████████████████████████████████████████████████████████████████████████████████████████████████████████| 66/66 [00:38<00:00,  1.73it/s]\n"
     ]
    }
   ],
   "source": [
    "# get all cases in current directory\n",
    "current_directory = os.getcwd()\n",
    "all_files_and_directories = os.listdir(current_directory)\n",
    "case_files = [os.path.join(current_directory, f) for f in all_files_and_directories if f.endswith('.m') and os.path.isfile(os.path.join(current_directory, f))]\n",
    "\n",
    "cases, casenames = [], []\n",
    "for cf in (t:=tqdm(case_files)):\n",
    "    octave.source(os.path.basename(cf))\n",
    "    cname = os.path.basename(cf).split('.')[0]\n",
    "    num_buses = None\n",
    "    for ci in cname.split('_'):\n",
    "        if 'case' in ci:\n",
    "            num_buses = int(''.join([chr for chr in ci.replace('case','',1) if chr.isdigit()]))\n",
    "    if num_buses <= MAX_BUS:\n",
    "        cases.append(loadcase(octave.feval(cname)))\n",
    "        casenames.append(cname)\n",
    "    t.set_description(f\"Loaded {os.path.basename(cf)}\")"
   ]
  },
  {
   "cell_type": "code",
   "execution_count": 32,
   "metadata": {},
   "outputs": [],
   "source": [
    "this_case = cases[0]\n",
    "to_str = lambda x: [str(int(xi)) for xi in x]\n",
    "bus_list = to_str(this_case['bus'][:,BUS_I].tolist())\n",
    "# branches\n",
    "BR_ON = this_case['branch'][:,BR_STATUS].astype(bool).astype(int)\n",
    "from_bus = to_str(this_case['branch'][:,F_BUS][BR_ON].tolist())\n",
    "to_bus = to_str(this_case['branch'][:,T_BUS][BR_ON].tolist())\n",
    "br_r = this_case['branch'][:,BR_R][BR_ON].tolist()\n",
    "br_x = this_case['branch'][:,BR_X][BR_ON].tolist()\n",
    "br_b = this_case['branch'][:,BR_B][BR_ON].tolist()\n",
    "tap = this_case['branch'][:,TAP][BR_ON].tolist()\n",
    "shift = this_case['branch'][:,TAP][BR_ON].tolist()\n",
    "branch_list = [(f,t) for f,t in zip(from_bus,to_bus)]\n",
    "# generators\n",
    "GEN_ON = this_case['gen'][:,GEN_STATUS].astype(bool).astype(int)\n",
    "gen_to_bus = this_case['gen'][:,GEN_BUS][GEN_ON]\n",
    "gen_mbase = this_case['gen'][:,MBASE][GEN_ON]\n",
    "gen_pmax, gen_pmin = this_case['gen'][:,PMAX][GEN_ON], this_case['gen'][:,PMIN][GEN_ON]\n",
    "gen_qmax, gen_qmin = this_case['gen'][:,QMAX][GEN_ON], this_case['gen'][:,QMIN][GEN_ON]\n",
    "# generator cost model\n",
    "gmodel = this_case['gencost']\n",
    "\n"
   ]
  },
  {
   "cell_type": "code",
   "execution_count": 33,
   "metadata": {},
   "outputs": [
    {
     "data": {
      "text/plain": [
       "array([1, 1, 1, 1, 1, 1, 1, 1, 1, 1, 1, 1, 1, 1, 1, 1, 1, 1, 1, 1, 1, 1,\n",
       "       1])"
      ]
     },
     "execution_count": 33,
     "metadata": {},
     "output_type": "execute_result"
    }
   ],
   "source": [
    "GEN_ON"
   ]
  },
  {
   "cell_type": "code",
   "execution_count": null,
   "metadata": {},
   "outputs": [],
   "source": []
  }
 ],
 "metadata": {
  "kernelspec": {
   "display_name": "Python 3 (ipykernel)",
   "language": "python",
   "name": "python3"
  },
  "language_info": {
   "codemirror_mode": {
    "name": "ipython",
    "version": 3
   },
   "file_extension": ".py",
   "mimetype": "text/x-python",
   "name": "python",
   "nbconvert_exporter": "python",
   "pygments_lexer": "ipython3",
   "version": "3.10.13"
  }
 },
 "nbformat": 4,
 "nbformat_minor": 2
}
