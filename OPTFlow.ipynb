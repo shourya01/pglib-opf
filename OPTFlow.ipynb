{
 "cells": [
  {
   "cell_type": "code",
   "execution_count": 1,
   "metadata": {
    "ExecuteTime": {
     "end_time": "2021-12-27T15:59:47.538000-03:00",
     "start_time": "2021-12-27T18:59:46.636Z"
    },
    "vscode": {
     "languageId": "julia"
    }
   },
   "outputs": [
    {
     "name": "stdout",
     "output_type": "stream",
     "text": [
      "error: 'using' undefined near line 1 column 1\n",
      "error: 'Pkg' undefined near line 1 column 1\n"
     ]
    }
   ],
   "source": [
    "using Pkg\n",
    "Pkg.activate(\"..\")"
   ]
  },
  {
   "cell_type": "markdown",
   "metadata": {},
   "source": [
    "## Library downloads"
   ]
  },
  {
   "cell_type": "code",
   "execution_count": 2,
   "metadata": {
    "ExecuteTime": {
     "end_time": "2021-12-27T15:59:56.133000-03:00",
     "start_time": "2021-12-27T18:59:46.639Z"
    },
    "vscode": {
     "languageId": "julia"
    }
   },
   "outputs": [
    {
     "name": "stdout",
     "output_type": "stream",
     "text": [
      "error: 'using' undefined near line 1 column 1\n",
      "parse error:\n",
      "\n",
      "  syntax error\n",
      "\n",
      ">>> ipopt = () -> Ipopt.Optimizer()\n",
      "             ^\n",
      "\n",
      "parse error:\n",
      "\n",
      "  syntax error\n",
      "\n",
      ">>> mosek = () -> Mosek.Optimizer()\n",
      "             ^\n",
      "\n"
     ]
    }
   ],
   "source": [
    "using JuMP,Ipopt,MosekTools, PyPlot\n",
    "ipopt = () -> Ipopt.Optimizer()\n",
    "mosek = () -> Mosek.Optimizer()"
   ]
  },
  {
   "cell_type": "markdown",
   "metadata": {},
   "source": [
    "## Data Structure and auxiliary functions"
   ]
  },
  {
   "cell_type": "code",
   "execution_count": 3,
   "metadata": {
    "ExecuteTime": {
     "end_time": "2021-12-27T15:59:56.578000-03:00",
     "start_time": "2021-12-27T18:59:46.642Z"
    },
    "vscode": {
     "languageId": "julia"
    }
   },
   "outputs": [
    {
     "name": "stdout",
     "output_type": "stream",
     "text": [
      "error: 'include' undefined near line 1 column 1\n",
      "error: 'include' undefined near line 1 column 1\n",
      "error: 'include' undefined near line 1 column 1\n"
     ]
    }
   ],
   "source": [
    "include(\"../src/structs.jl\")\n",
    "include(\"../src/data_read.jl\")\n",
    "include(\"../src/utils.jl\")"
   ]
  },
  {
   "cell_type": "markdown",
   "metadata": {},
   "source": [
    "## Data Download"
   ]
  },
  {
   "cell_type": "markdown",
   "metadata": {
    "ExecuteTime": {
     "end_time": "2020-07-13T18:34:37.692000-03:00",
     "start_time": "2020-07-13T21:34:35.642Z"
    }
   },
   "source": [
    "Data library: [pglib-opf-master](https://github.com/power-grid-lib/pglib-opf)"
   ]
  },
  {
   "cell_type": "code",
   "execution_count": 4,
   "metadata": {
    "ExecuteTime": {
     "end_time": "2021-12-27T15:59:56.813000-03:00",
     "start_time": "2021-12-27T18:59:46.646Z"
    },
    "vscode": {
     "languageId": "julia"
    }
   },
   "outputs": [
    {
     "name": "stdout",
     "output_type": "stream",
     "text": [
      "parse error:\n",
      "\n",
      "  syntax error\n",
      "\n",
      ">>> full_data = raw\"..\\data\\pglib-opf\"\n",
      "                                     ^\n",
      "\n"
     ]
    }
   ],
   "source": [
    "full_data = raw\"..\\data\\pglib-opf\""
   ]
  },
  {
   "cell_type": "markdown",
   "metadata": {},
   "source": [
    "# Model build"
   ]
  },
  {
   "cell_type": "markdown",
   "metadata": {},
   "source": [
    "## Functions related to electrical grid graph"
   ]
  },
  {
   "cell_type": "markdown",
   "metadata": {},
   "source": [
    "Consider a non-directed graph with $\\mathcal{N} = (\\mathcal{B},\\mathcal{L})$, where $\\mathcal{B}$ is the set of buses and $\\mathcal{L}$ the set of transmission lines. The set of Generators $\\mathcal{G}$ is a subset of $\\mathcal{B}$."
   ]
  },
  {
   "cell_type": "code",
   "execution_count": 5,
   "metadata": {
    "ExecuteTime": {
     "end_time": "2021-12-27T15:59:56.892000-03:00",
     "start_time": "2021-12-27T18:59:46.650Z"
    },
    "vscode": {
     "languageId": "julia"
    }
   },
   "outputs": [
    {
     "name": "stdout",
     "output_type": "stream",
     "text": [
      "parse error:\n",
      "\n",
      "  syntax error\n",
      "\n",
      ">>>     for bus in Buses\n",
      "                 ^\n",
      "\n",
      "parse error:\n",
      "\n",
      "  syntax error\n",
      "\n",
      ">>>         dict_buses[bus.bus_i] = count\n",
      "                      ^\n",
      "\n",
      "warning: the 'count' function is not yet implemented in Octave\n",
      "\n",
      "Please read <https://www.octave.org/missing.html> to learn how you can\n",
      "contribute missing functionality.\n",
      "error: 'count' undefined near line 1 column 9\n",
      "parse error:\n",
      "\n",
      "  syntax error\n",
      "\n",
      ">>>     end\n",
      "          ^\n",
      "\n",
      "error: 'dict_buses' undefined near line 1 column 5\n",
      "parse error:\n",
      "\n",
      "  syntax error\n",
      "\n",
      ">>> end\n",
      "      ^\n",
      "\n"
     ]
    }
   ],
   "source": [
    "function bus_id(Buses)\n",
    "    count = 1\n",
    "    dict_buses = Dict()\n",
    "    for bus in Buses\n",
    "        dict_buses[bus.bus_i] = count\n",
    "        count += 1\n",
    "    end\n",
    "    dict_buses\n",
    "end"
   ]
  },
  {
   "cell_type": "markdown",
   "metadata": {},
   "source": [
    "The function $\\delta$ receive a bus as attribute and returns all lines connected to it."
   ]
  },
  {
   "cell_type": "code",
   "execution_count": 6,
   "metadata": {
    "ExecuteTime": {
     "end_time": "2021-12-27T15:59:56.979000-03:00",
     "start_time": "2021-12-27T18:59:46.653Z"
    },
    "vscode": {
     "languageId": "julia"
    }
   },
   "outputs": [
    {
     "name": "stdout",
     "output_type": "stream",
     "text": [
      "parse error:\n",
      "\n",
      "  syntax error\n",
      "\n",
      ">>> function δ(i,Branches,Buses)\n",
      "             ^\n",
      "\n",
      "tbuses = [](0x0)\n",
      "error: 'Buses' undefined near line 1 column 25\n",
      "count =  1\n",
      "ls = [](0x0)\n",
      "parse error:\n",
      "\n",
      "  syntax error\n",
      "\n",
      ">>>     for branch in Branches\n",
      "                    ^\n",
      "\n",
      "parse error:\n",
      "\n",
      "  syntax error\n",
      "\n",
      ">>>             push!(tbuses,dict_buses[branch.tbus])\n",
      "                    ^\n",
      "\n",
      "parse error:\n",
      "\n",
      "  syntax error\n",
      "\n",
      ">>>             push!(ls,count)\n",
      "                    ^\n",
      "\n",
      "parse error:\n",
      "\n",
      "  syntax error\n",
      "\n",
      ">>>         end\n",
      "              ^\n",
      "\n",
      "parse error:\n",
      "\n",
      "  syntax error\n",
      "\n",
      ">>>             push!(tbuses,dict_buses[branch.fbus])\n",
      "                    ^\n",
      "\n",
      "parse error:\n",
      "\n",
      "  syntax error\n",
      "\n",
      ">>>             push!(ls,count)\n",
      "                    ^\n",
      "\n",
      "parse error:\n",
      "\n",
      "  syntax error\n",
      "\n",
      ">>>         end\n",
      "              ^\n",
      "\n",
      "count =  2\n",
      "parse error:\n",
      "\n",
      "  syntax error\n",
      "\n",
      ">>>     end\n",
      "          ^\n",
      "\n",
      "parse error:\n",
      "\n",
      "  syntax error\n",
      "\n",
      ">>>     (tbuses,ls)\n",
      "               ^\n",
      "\n",
      "parse error:\n",
      "\n",
      "  syntax error\n",
      "\n",
      ">>> end\n",
      "      ^\n",
      "\n"
     ]
    }
   ],
   "source": [
    "function δ(i,Branches,Buses)\n",
    "    tbuses = []\n",
    "    dict_buses = bus_id(Buses)\n",
    "    count = 1\n",
    "    ls = []\n",
    "    for branch in Branches\n",
    "        if dict_buses[branch.fbus] == i\n",
    "            push!(tbuses,dict_buses[branch.tbus])\n",
    "            push!(ls,count)\n",
    "        end\n",
    "        if dict_buses[branch.tbus] == i\n",
    "            push!(tbuses,dict_buses[branch.fbus])\n",
    "            push!(ls,count)\n",
    "        end\n",
    "        count += 1\n",
    "    end\n",
    "    (tbuses,ls)\n",
    "end"
   ]
  },
  {
   "cell_type": "code",
   "execution_count": 7,
   "metadata": {
    "ExecuteTime": {
     "end_time": "2021-12-27T15:59:57.065000-03:00",
     "start_time": "2021-12-27T18:59:46.655Z"
    },
    "vscode": {
     "languageId": "julia"
    }
   },
   "outputs": [
    {
     "name": "stdout",
     "output_type": "stream",
     "text": [
      "parse error:\n",
      "\n",
      "  syntax error\n",
      "\n",
      ">>>     for branch in Branches\n",
      "                    ^\n",
      "\n",
      "parse error:\n",
      "\n",
      "  syntax error\n",
      "\n",
      ">>>             push!(tbuses,dict_buses[branch.tbus])\n",
      "                    ^\n",
      "\n",
      "parse error:\n",
      "\n",
      "  syntax error\n",
      "\n",
      ">>>             push!(ls,count)\n",
      "                    ^\n",
      "\n",
      "parse error:\n",
      "\n",
      "  syntax error\n",
      "\n",
      ">>>         end\n",
      "              ^\n",
      "\n",
      "count =  3\n",
      "parse error:\n",
      "\n",
      "  syntax error\n",
      "\n",
      ">>>     end\n",
      "          ^\n",
      "\n",
      "parse error:\n",
      "\n",
      "  syntax error\n",
      "\n",
      ">>>     (tbuses,ls)\n",
      "               ^\n",
      "\n",
      "parse error:\n",
      "\n",
      "  syntax error\n",
      "\n",
      ">>> end\n",
      "      ^\n",
      "\n",
      "parse error:\n",
      "\n",
      "  syntax error\n",
      "\n",
      ">>>     for branch in Branches\n",
      "                    ^\n",
      "\n",
      "parse error:\n",
      "\n",
      "  syntax error\n",
      "\n",
      ">>>             push!(tbuses,dict_buses[branch.fbus])\n",
      "                    ^\n",
      "\n",
      "parse error:\n",
      "\n",
      "  syntax error\n",
      "\n",
      ">>>             push!(ls,count)\n",
      "                    ^\n",
      "\n",
      "parse error:\n",
      "\n",
      "  syntax error\n",
      "\n",
      ">>>         end\n",
      "              ^\n",
      "\n",
      "count =  4\n",
      "parse error:\n",
      "\n",
      "  syntax error\n",
      "\n",
      ">>>     end\n",
      "          ^\n",
      "\n",
      "parse error:\n",
      "\n",
      "  syntax error\n",
      "\n",
      ">>>     (tbuses,ls)\n",
      "               ^\n",
      "\n",
      "parse error:\n",
      "\n",
      "  syntax error\n",
      "\n",
      ">>> end\n",
      "      ^\n",
      "\n"
     ]
    }
   ],
   "source": [
    "function From_nodes(i,Branches,Buses)\n",
    "    tbuses = []\n",
    "    ls = []\n",
    "    count = 1\n",
    "    dict_buses = bus_id(Buses)\n",
    "    for branch in Branches\n",
    "        if dict_buses[branch.fbus] == i\n",
    "            push!(tbuses,dict_buses[branch.tbus])\n",
    "            push!(ls,count)\n",
    "        end\n",
    "        count += 1\n",
    "    end\n",
    "    (tbuses,ls)\n",
    "end\n",
    "\n",
    "function To_nodes(i,Branches,Buses)\n",
    "    tbuses = []\n",
    "    ls = []\n",
    "    count = 1\n",
    "    dict_buses = bus_id(Buses)\n",
    "    for branch in Branches\n",
    "        if dict_buses[branch.tbus] == i\n",
    "            push!(tbuses,dict_buses[branch.fbus])\n",
    "            push!(ls,count)\n",
    "        end\n",
    "        count += 1\n",
    "    end\n",
    "    (tbuses,ls)\n",
    "end"
   ]
  },
  {
   "cell_type": "code",
   "execution_count": 8,
   "metadata": {
    "ExecuteTime": {
     "end_time": "2021-12-27T15:59:57.154000-03:00",
     "start_time": "2021-12-27T18:59:46.658Z"
    },
    "vscode": {
     "languageId": "julia"
    }
   },
   "outputs": [
    {
     "name": "stdout",
     "output_type": "stream",
     "text": [
      "parse error:\n",
      "\n",
      "  syntax error\n",
      "\n",
      ">>>     for gen in Generators\n",
      "                 ^\n",
      "\n",
      "parse error:\n",
      "\n",
      "  syntax error\n",
      "\n",
      ">>>             push!(G_i,count)\n",
      "                    ^\n",
      "\n",
      "parse error:\n",
      "\n",
      "  syntax error\n",
      "\n",
      ">>>         end\n",
      "              ^\n",
      "\n",
      "count =  5\n",
      "parse error:\n",
      "\n",
      "  syntax error\n",
      "\n",
      ">>>     end\n",
      "          ^\n",
      "\n",
      "error: 'G_i' undefined near line 1 column 5\n",
      "parse error:\n",
      "\n",
      "  syntax error\n",
      "\n",
      ">>> end\n",
      "      ^\n",
      "\n"
     ]
    }
   ],
   "source": [
    "function G(i,Generators,Buses)\n",
    "    G_i = []\n",
    "    count = 1\n",
    "    dict_buses = bus_id(Buses)\n",
    "    for gen in Generators\n",
    "        if dict_buses[gen.bus] == i\n",
    "            push!(G_i,count)\n",
    "        end\n",
    "        count += 1\n",
    "    end\n",
    "    G_i\n",
    "end"
   ]
  },
  {
   "cell_type": "markdown",
   "metadata": {},
   "source": [
    "## Constants"
   ]
  },
  {
   "cell_type": "markdown",
   "metadata": {},
   "source": [
    "- $Y_l^{Re}$: Series admittance (real)\n",
    "- $Y_l^{Im}$: Series admittance (imaginary)\n",
    "- $T_l^{Re}$: Transformer parameters (real)\n",
    "- $T_l^{Im}$: Transformer parameters (imaginary)\n",
    "- $b_l$: Line charge\n",
    "- $s_l^u$: Thermal limits\n",
    "- $\\theta_{min}$,$\\theta_{max}$: Branch voltage angle difference range"
   ]
  },
  {
   "cell_type": "code",
   "execution_count": 9,
   "metadata": {
    "ExecuteTime": {
     "end_time": "2021-12-27T15:59:57.237000-03:00",
     "start_time": "2021-12-27T18:59:46.661Z"
    },
    "vscode": {
     "languageId": "julia"
    }
   },
   "outputs": [
    {
     "name": "stdout",
     "output_type": "stream",
     "text": [
      "parse error:\n",
      "\n",
      "  syntax error\n",
      "\n",
      ">>>         YR[l] = Branches[l].r/(Branches[l].r^2+Branches[l].x^2)\n",
      "              ^\n",
      "\n",
      "parse error:\n",
      "\n",
      "  syntax error\n",
      "\n",
      ">>>         YI[l] = -Branches[l].x/(Branches[l].r^2+Branches[l].x^2)\n",
      "              ^\n",
      "\n",
      "parse error:\n",
      "\n",
      "  syntax error\n",
      "\n",
      ">>>         TR[l] = Branches[l].ratio*cos(Branches[l].angle)\n",
      "              ^\n",
      "\n",
      "parse error:\n",
      "\n",
      "  syntax error\n",
      "\n",
      ">>>         TI[l] = Branches[l].ratio*sin(Branches[l].angle)\n",
      "              ^\n",
      "\n",
      "parse error:\n",
      "\n",
      "  syntax error\n",
      "\n",
      ">>>         B[l] = Branches[l].b\n",
      "             ^\n",
      "\n",
      "parse error:\n",
      "\n",
      "  syntax error\n",
      "\n",
      ">>>         thermal_lim[l] = Branches[l].rateA/100.0\n",
      "                       ^\n",
      "\n",
      "parse error:\n",
      "\n",
      "  syntax error\n",
      "\n",
      ">>>         ang_min[l] = Branches[l].angmin*pi/180\n",
      "                   ^\n",
      "\n",
      "parse error:\n",
      "\n",
      "  syntax error\n",
      "\n",
      ">>>         ang_max[l] = Branches[l].angmax*pi/180\n",
      "                   ^\n",
      "\n",
      "parse error:\n",
      "\n",
      "  syntax error\n",
      "\n",
      ">>>     end\n",
      "          ^\n",
      "\n",
      "parse error:\n",
      "\n",
      "  syntax error\n",
      "\n",
      ">>>     return YR,YI,TR,TI,B,thermal_lim,ang_min,ang_max\n",
      "                ^\n",
      "\n",
      "parse error:\n",
      "\n",
      "  syntax error\n",
      "\n",
      ">>> end\n",
      "      ^\n",
      "\n"
     ]
    }
   ],
   "source": [
    "function add_constants(Branches)\n",
    "    YR = zeros(length(Branches))\n",
    "    YI = zeros(length(Branches))\n",
    "    TR = zeros(length(Branches))\n",
    "    TI = zeros(length(Branches))\n",
    "    B = zeros(length(Branches))\n",
    "    thermal_lim = zeros(length(Branches))\n",
    "    ang_min = zeros(length(Branches))\n",
    "    ang_max = zeros(length(Branches))\n",
    "    for l=1:length(Branches)\n",
    "        YR[l] = Branches[l].r/(Branches[l].r^2+Branches[l].x^2)\n",
    "        YI[l] = -Branches[l].x/(Branches[l].r^2+Branches[l].x^2)\n",
    "        TR[l] = Branches[l].ratio*cos(Branches[l].angle)\n",
    "        TI[l] = Branches[l].ratio*sin(Branches[l].angle)\n",
    "        B[l] = Branches[l].b\n",
    "        thermal_lim[l] = Branches[l].rateA/100.0\n",
    "        ang_min[l] = Branches[l].angmin*pi/180\n",
    "        ang_max[l] = Branches[l].angmax*pi/180\n",
    "    end\n",
    "    return YR,YI,TR,TI,B,thermal_lim,ang_min,ang_max\n",
    "end"
   ]
  },
  {
   "cell_type": "markdown",
   "metadata": {},
   "source": [
    "## Unrelaxed variables"
   ]
  },
  {
   "cell_type": "markdown",
   "metadata": {},
   "source": [
    "- $p_g^i \\hspace{0.2cm} \\forall i \\in \\mathcal{B}$: Power Output (active)\n",
    "- $q_g^i \\hspace{0.2cm} \\forall i \\in \\mathcal{B}$: Power Output (reactive)\n",
    "- $S^{Re}_{i,j,l} \\hspace{0.2cm} \\forall (i,j,l) \\in \\mathcal{L}$: Power flow on line (active)\n",
    "- $S^{Im}_{i,j,l} \\hspace{0.2cm} \\forall (i,j,l) \\in \\mathcal{L}$: Power flow on line (reactive)"
   ]
  },
  {
   "cell_type": "code",
   "execution_count": 10,
   "metadata": {
    "ExecuteTime": {
     "end_time": "2021-12-27T15:59:58.166000-03:00",
     "start_time": "2021-12-27T18:59:46.664Z"
    },
    "vscode": {
     "languageId": "julia"
    }
   },
   "outputs": [
    {
     "name": "stdout",
     "output_type": "stream",
     "text": [
      "parse error:\n",
      "\n",
      "  syntax error\n",
      "\n",
      ">>> function add_global_variables!(model, Buses, Generators, Branches, thermal_lim; start=false)\n",
      "                                        ^\n",
      "\n",
      "parse error:\n",
      "\n",
      "  syntax error\n",
      "\n",
      ">>>         @variable(model, Generators[i].Pmin/100.0 <= p_g[i=1:length(Generators)] <= Generators[i].Pmax/100.0, start = arr2[i])\n",
      "                                       ^\n",
      "\n",
      "parse error:\n",
      "\n",
      "  syntax error\n",
      "\n",
      ">>>         @variable(model, Generators[i].Qmin/100.0 <= q_g[i=1:length(Generators)] <= Generators[i].Qmax/100.0, start = arr2[i])\n",
      "                                       ^\n",
      "\n",
      "parse error:\n",
      "\n",
      "  syntax error\n",
      "\n",
      ">>>         SR = @variable(model,[(i,j,l) in [(i,j,l) for i = 1:length(Buses) for (j,l) in zip(δ(i,Branches,Buses)...)]], base_name = \"SR\",lower_bound = -thermal_lim[l], upper_bound = thermal_lim[l], start = arr3[l])\n",
      "                                    ^\n",
      "\n",
      "parse error:\n",
      "\n",
      "  syntax error\n",
      "\n",
      ">>>         SI = @variable(model,[(i,j,l) in [(i,j,l) for i = 1:length(Buses) for (j,l) in zip(δ(i,Branches,Buses)...)]], base_name = \"SI\",lower_bound = -thermal_lim[l], upper_bound = thermal_lim[l], start = arr3[l])\n",
      "                                    ^\n",
      "\n",
      "parse error:\n",
      "\n",
      "  syntax error\n",
      "\n",
      ">>>     else\n",
      "           ^\n",
      "\n",
      "parse error:\n",
      "\n",
      "  syntax error\n",
      "\n",
      ">>>         @variable(model, Generators[i].Pmin/100.0 <= p_g[i=1:length(Generators)] <= Generators[i].Pmax/100.0)\n",
      "                                       ^\n",
      "\n",
      "parse error:\n",
      "\n",
      "  syntax error\n",
      "\n",
      ">>>         @variable(model, Generators[i].Qmin/100.0 <= q_g[i=1:length(Generators)] <= Generators[i].Qmax/100.0)\n",
      "                                       ^\n",
      "\n",
      "parse error:\n",
      "\n",
      "  syntax error\n",
      "\n",
      ">>>         SR = @variable(model,[(i,j,l) in [(i,j,l) for i = 1:length(Buses) for (j,l) in zip(δ(i,Branches,Buses)...)]], base_name = \"SR\",lower_bound = -thermal_lim[l], upper_bound = thermal_lim[l])\n",
      "                                    ^\n",
      "\n",
      "parse error:\n",
      "\n",
      "  syntax error\n",
      "\n",
      ">>>         SI = @variable(model,[(i,j,l) in [(i,j,l) for i = 1:length(Buses) for (j,l) in zip(δ(i,Branches,Buses)...)]], base_name = \"SI\",lower_bound = -thermal_lim[l], upper_bound = thermal_lim[l])\n",
      "                                    ^\n",
      "\n",
      "parse error:\n",
      "\n",
      "  syntax error\n",
      "\n",
      ">>>     end\n",
      "          ^\n",
      "\n",
      "parse error:\n",
      "\n",
      "  syntax error\n",
      "\n",
      ">>>     model[:SR] = SR\n",
      "             ^\n",
      "\n",
      "parse error:\n",
      "\n",
      "  syntax error\n",
      "\n",
      ">>>     model[:SI] = SI\n",
      "             ^\n",
      "\n",
      "parse error:\n",
      "\n",
      "  syntax error\n",
      "\n",
      ">>> end\n",
      "      ^\n",
      "\n"
     ]
    }
   ],
   "source": [
    "function add_global_variables!(model, Buses, Generators, Branches, thermal_lim; start=false)\n",
    "    if start\n",
    "        arr1 = ones(length(Buses))\n",
    "        arr2 = ones(length(Generators))\n",
    "        arr3 = ones(length(Branches))\n",
    "        @variable(model, Generators[i].Pmin/100.0 <= p_g[i=1:length(Generators)] <= Generators[i].Pmax/100.0, start = arr2[i])\n",
    "        @variable(model, Generators[i].Qmin/100.0 <= q_g[i=1:length(Generators)] <= Generators[i].Qmax/100.0, start = arr2[i])\n",
    "        SR = @variable(model,[(i,j,l) in [(i,j,l) for i = 1:length(Buses) for (j,l) in zip(δ(i,Branches,Buses)...)]], base_name = \"SR\",lower_bound = -thermal_lim[l], upper_bound = thermal_lim[l], start = arr3[l])\n",
    "        SI = @variable(model,[(i,j,l) in [(i,j,l) for i = 1:length(Buses) for (j,l) in zip(δ(i,Branches,Buses)...)]], base_name = \"SI\",lower_bound = -thermal_lim[l], upper_bound = thermal_lim[l], start = arr3[l])\n",
    "    else\n",
    "        @variable(model, Generators[i].Pmin/100.0 <= p_g[i=1:length(Generators)] <= Generators[i].Pmax/100.0)\n",
    "        @variable(model, Generators[i].Qmin/100.0 <= q_g[i=1:length(Generators)] <= Generators[i].Qmax/100.0)\n",
    "        SR = @variable(model,[(i,j,l) in [(i,j,l) for i = 1:length(Buses) for (j,l) in zip(δ(i,Branches,Buses)...)]], base_name = \"SR\",lower_bound = -thermal_lim[l], upper_bound = thermal_lim[l])\n",
    "        SI = @variable(model,[(i,j,l) in [(i,j,l) for i = 1:length(Buses) for (j,l) in zip(δ(i,Branches,Buses)...)]], base_name = \"SI\",lower_bound = -thermal_lim[l], upper_bound = thermal_lim[l])\n",
    "    end\n",
    "    model[:SR] = SR\n",
    "    model[:SI] = SI\n",
    "end"
   ]
  },
  {
   "cell_type": "markdown",
   "metadata": {},
   "source": [
    "## Voltage Variables"
   ]
  },
  {
   "cell_type": "markdown",
   "metadata": {},
   "source": [
    "- $V_i^{Re} \\hspace{0.2cm} \\forall i \\in \\mathcal{B}$: Bus Voltage (active)\n",
    "- $V_i^{Im} \\hspace{0.2cm} \\forall i \\in \\mathcal{B}$: Bus Voltage (reactive)"
   ]
  },
  {
   "cell_type": "code",
   "execution_count": 11,
   "metadata": {
    "ExecuteTime": {
     "end_time": "2021-12-27T15:59:58.250000-03:00",
     "start_time": "2021-12-27T18:59:46.668Z"
    },
    "vscode": {
     "languageId": "julia"
    }
   },
   "outputs": [
    {
     "name": "stdout",
     "output_type": "stream",
     "text": [
      "parse error:\n",
      "\n",
      "  syntax error\n",
      "\n",
      ">>> function add_voltage_variables!(model, Buses; start = false)\n",
      "                                         ^\n",
      "\n",
      "parse error:\n",
      "\n",
      "  syntax error\n",
      "\n",
      ">>>         @variable(model, - Buses[i].Vmax <= VR[i=1:length(Buses)] <= Buses[i].Vmax , start = arr1[i])\n",
      "                                    ^\n",
      "\n",
      "parse error:\n",
      "\n",
      "  syntax error\n",
      "\n",
      ">>>         @variable(model, - Buses[i].Vmax <= VI[i=1:length(Buses)] <= Buses[i].Vmax , start = arr1[i])\n",
      "                                    ^\n",
      "\n",
      "parse error:\n",
      "\n",
      "  syntax error\n",
      "\n",
      ">>>     else\n",
      "           ^\n",
      "\n",
      "parse error:\n",
      "\n",
      "  syntax error\n",
      "\n",
      ">>>         @variable(model, - Buses[i].Vmax <= VR[i=1:length(Buses)] <= Buses[i].Vmax)\n",
      "                                    ^\n",
      "\n",
      "parse error:\n",
      "\n",
      "  syntax error\n",
      "\n",
      ">>>         @variable(model, - Buses[i].Vmax <= VI[i=1:length(Buses)] <= Buses[i].Vmax)\n",
      "                                    ^\n",
      "\n",
      "parse error:\n",
      "\n",
      "  syntax error\n",
      "\n",
      ">>>     end\n",
      "          ^\n",
      "\n",
      "parse error:\n",
      "\n",
      "  syntax error\n",
      "\n",
      ">>> end\n",
      "      ^\n",
      "\n"
     ]
    }
   ],
   "source": [
    "function add_voltage_variables!(model, Buses; start = false)\n",
    "    if start\n",
    "        arr1 = ones(length(Buses))\n",
    "        @variable(model, - Buses[i].Vmax <= VR[i=1:length(Buses)] <= Buses[i].Vmax , start = arr1[i])\n",
    "        @variable(model, - Buses[i].Vmax <= VI[i=1:length(Buses)] <= Buses[i].Vmax , start = arr1[i])\n",
    "    else\n",
    "        @variable(model, - Buses[i].Vmax <= VR[i=1:length(Buses)] <= Buses[i].Vmax)\n",
    "        @variable(model, - Buses[i].Vmax <= VI[i=1:length(Buses)] <= Buses[i].Vmax)\n",
    "    end\n",
    "end"
   ]
  },
  {
   "cell_type": "markdown",
   "metadata": {},
   "source": [
    "## Constraints"
   ]
  },
  {
   "cell_type": "markdown",
   "metadata": {},
   "source": [
    "### Reference angle\n",
    "- Constraint:\n",
    "    - $\\angle V_I(1) = 0$"
   ]
  },
  {
   "cell_type": "code",
   "execution_count": 12,
   "metadata": {
    "ExecuteTime": {
     "end_time": "2021-12-27T15:59:59.522000-03:00",
     "start_time": "2021-12-27T18:59:46.672Z"
    },
    "vscode": {
     "languageId": "julia"
    }
   },
   "outputs": [
    {
     "name": "stdout",
     "output_type": "stream",
     "text": [
      "parse error:\n",
      "\n",
      "  syntax error\n",
      "\n",
      ">>> function add_reference_angle!(model, Buses)\n",
      "                                       ^\n",
      "\n",
      "error: 'model' undefined near line 1 column 27\n",
      "error: @constraint: no function and no method found\n",
      "parse error:\n",
      "\n",
      "  syntax error\n",
      "\n",
      ">>> end\n",
      "      ^\n",
      "\n"
     ]
    }
   ],
   "source": [
    "function add_reference_angle!(model, Buses)\n",
    "    VI = variable_by_name(model, \"VI[1]\")\n",
    "    @constraint(model, VI == 0)\n",
    "end"
   ]
  },
  {
   "cell_type": "markdown",
   "metadata": {},
   "source": [
    "### Power Balance\n",
    "- Real and Imaginary part of a complex number: $\\Re(\\cdot),\\Im(\\cdot)$ \n",
    "- Constant Power Demand on bus i (active)  : $P^d_i$\n",
    "- Constant Power Demand on bus i (reactive): $Q^d_i$\n",
    "- Bus Shunt Admittance: $Y^s_i$\n",
    "- Constraints:\n",
    "    - $\\sum_{i \\in G(i)} p_g^i - P^d_i + \\Re(Y^s_i) |V_i|^2 = \\sum_{(l,j) \\in \\delta(i)} S_{lij}^{Re} \\hspace{0.2cm}  \\forall i \\in \\mathcal{B}$ (active)\n",
    "    - $\\sum_{i \\in G(i)} q_g^i - Q^d_i + \\Im(Y^s_i) |V_i|^2 = \\sum_{(l,j) \\in \\delta(i)} S_{lij}^{Re} \\hspace{0.2cm}  \\forall i \\in \\mathcal{B}$ (reactive)"
   ]
  },
  {
   "cell_type": "code",
   "execution_count": 13,
   "metadata": {
    "ExecuteTime": {
     "end_time": "2021-12-27T15:59:59.777000-03:00",
     "start_time": "2021-12-27T18:59:46.676Z"
    },
    "vscode": {
     "languageId": "julia"
    }
   },
   "outputs": [
    {
     "name": "stdout",
     "output_type": "stream",
     "text": [
      "parse error:\n",
      "\n",
      "  syntax error\n",
      "\n",
      ">>> function constraint_power_balance!(model, Buses, Generators, Branches, sqrd_volt, i)\n",
      "                                            ^\n",
      "\n",
      "parse error:\n",
      "\n",
      "  syntax error\n",
      "\n",
      ">>>     p_g = model[Symbol(\"p_g\")]\n",
      "                   ^\n",
      "\n",
      "parse error:\n",
      "\n",
      "  syntax error\n",
      "\n",
      ">>>     q_g = model[Symbol(\"q_g\")]\n",
      "                   ^\n",
      "\n",
      "parse error:\n",
      "\n",
      "  syntax error\n",
      "\n",
      ">>>     SR = model[Symbol(\"SR\")]\n",
      "                  ^\n",
      "\n",
      "parse error:\n",
      "\n",
      "  syntax error\n",
      "\n",
      ">>>     SI = model[Symbol(\"SI\")]\n",
      "                  ^\n",
      "\n",
      "parse error:\n",
      "\n",
      "  syntax error\n",
      "\n",
      ">>>     @constraint(model, sum(p_g[i] for i in G(i,Generators,Buses)) - Buses[i].Pd/100.0 + Buses[i].Gs/100.0*sqrd_volt == sum(SR[(i,j,l)] for (j,l) in zip(δ(i,Branches,Buses)...)))\n",
      "                                  ^\n",
      "\n",
      "parse error:\n",
      "\n",
      "  syntax error\n",
      "\n",
      ">>>     @constraint(model, sum(q_g[i] for i in G(i,Generators,Buses)) - Buses[i].Qd/100.0 + Buses[i].Bs/100.0*sqrd_volt == sum(SI[(i,j,l)] for (j,l) in zip(δ(i,Branches,Buses)...)))\n",
      "                                  ^\n",
      "\n",
      "parse error:\n",
      "\n",
      "  syntax error\n",
      "\n",
      ">>> end\n",
      "      ^\n",
      "\n"
     ]
    }
   ],
   "source": [
    "function constraint_power_balance!(model, Buses, Generators, Branches, sqrd_volt, i)\n",
    "    p_g = model[Symbol(\"p_g\")]\n",
    "    q_g = model[Symbol(\"q_g\")]\n",
    "    SR = model[Symbol(\"SR\")]\n",
    "    SI = model[Symbol(\"SI\")]\n",
    "    @constraint(model, sum(p_g[i] for i in G(i,Generators,Buses)) - Buses[i].Pd/100.0 + Buses[i].Gs/100.0*sqrd_volt == sum(SR[(i,j,l)] for (j,l) in zip(δ(i,Branches,Buses)...)))\n",
    "    @constraint(model, sum(q_g[i] for i in G(i,Generators,Buses)) - Buses[i].Qd/100.0 + Buses[i].Bs/100.0*sqrd_volt == sum(SI[(i,j,l)] for (j,l) in zip(δ(i,Branches,Buses)...)))\n",
    "end"
   ]
  },
  {
   "cell_type": "markdown",
   "metadata": {},
   "source": [
    "### Voltage Bounds\n",
    "- $v_i^l,v_i^u$: Lower and upper voltages limits\n",
    "- Constraints:\n",
    "    - $(v_i^l)^2 \\leq |V_i|^2 \\leq (v_i^u)^2 \\hspace{0.2cm} \\forall i \\in \\mathcal{B}$"
   ]
  },
  {
   "cell_type": "code",
   "execution_count": 14,
   "metadata": {
    "ExecuteTime": {
     "end_time": "2021-12-27T15:59:59.902000-03:00",
     "start_time": "2021-12-27T18:59:46.684Z"
    },
    "vscode": {
     "languageId": "julia"
    }
   },
   "outputs": [
    {
     "name": "stdout",
     "output_type": "stream",
     "text": [
      "parse error:\n",
      "\n",
      "  syntax error\n",
      "\n",
      ">>> function voltage_bounds_sqrd!(model, Buses, sqrd_volt, i)\n",
      "                                       ^\n",
      "\n",
      "parse error:\n",
      "\n",
      "  syntax error\n",
      "\n",
      ">>>     @constraint(model, Buses[i].Vmin^2 <= sqrd_volt <= Buses[i].Vmax^2)\n",
      "                                ^\n",
      "\n",
      "parse error:\n",
      "\n",
      "  syntax error\n",
      "\n",
      ">>> end\n",
      "      ^\n",
      "\n"
     ]
    }
   ],
   "source": [
    "function voltage_bounds_sqrd!(model, Buses, sqrd_volt, i)\n",
    "    @constraint(model, Buses[i].Vmin^2 <= sqrd_volt <= Buses[i].Vmax^2)\n",
    "end"
   ]
  },
  {
   "cell_type": "markdown",
   "metadata": {},
   "source": [
    "### Line Balance\n",
    "- Constraints:\n",
    "    - $S_{lij}^{Re} = Y_l^{Re} |V_i|^2 - Y_l^{Re}c_{ij} - Y_l^{Im}s_{ij} \\hspace{0.2cm} \\forall (l,i,j) \\in \\mathcal{L}$\n",
    "    - $S_{lij}^{Im} = -(Y_l^{Im}-b_l/2) |V_i|^2 + Y_l^{Im}c_{ij} - Y_l^{Re}s_{ij} \\hspace{0.2cm} \\forall (l,i,j) \\in \\mathcal{L}$\n",
    "    - $c_{ij} = V_i^{Re}V_j^{Re}+V_i^{Im}V_j^{Im}$\n",
    "\t- $s_{ij} = V_i^{Im}V_j^{Re}-V_i^{Re}V_j^{Im}$"
   ]
  },
  {
   "cell_type": "code",
   "execution_count": 15,
   "metadata": {
    "ExecuteTime": {
     "end_time": "2021-12-27T16:00:00.025000-03:00",
     "start_time": "2021-12-27T18:59:46.690Z"
    },
    "vscode": {
     "languageId": "julia"
    }
   },
   "outputs": [
    {
     "name": "stdout",
     "output_type": "stream",
     "text": [
      "parse error:\n",
      "\n",
      "  syntax error\n",
      "\n",
      ">>> function constraint_line_balance!(model, YR, YI, B, sqrd_volt_i, sqrd_volt_j, sum_product_voltages,  diff_product_voltages, i, j, l)\n",
      "                                           ^\n",
      "\n",
      "parse error:\n",
      "\n",
      "  syntax error\n",
      "\n",
      ">>>     SR = model[Symbol(\"SR\")]\n",
      "                  ^\n",
      "\n",
      "parse error:\n",
      "\n",
      "  syntax error\n",
      "\n",
      ">>>     SI = model[Symbol(\"SI\")]\n",
      "                  ^\n",
      "\n",
      "parse error:\n",
      "\n",
      "  syntax error\n",
      "\n",
      ">>>     @constraint(model, SR[(i,j,l)] == YR*sqrd_volt_i + (-YR)*sum_product_voltages + (-YI)*(diff_product_voltages))\n",
      "                             ^\n",
      "\n",
      "parse error:\n",
      "\n",
      "  syntax error\n",
      "\n",
      ">>>     @constraint(model, SI[(i,j,l)] == -(YI+B/2)*sqrd_volt_i - (-YI)*sum_product_voltages + (-YR)*diff_product_voltages)\n",
      "                             ^\n",
      "\n",
      "parse error:\n",
      "\n",
      "  syntax error\n",
      "\n",
      ">>>     @constraint(model, SR[(j,i,l)] == YR*sqrd_volt_j + (-YR)*sum_product_voltages + (-YI)*(-(diff_product_voltages)))\n",
      "                             ^\n",
      "\n",
      "parse error:\n",
      "\n",
      "  syntax error\n",
      "\n",
      ">>>     @constraint(model, SI[(j,i,l)] == -(YI+B/2)*sqrd_volt_j - (-YI)*sum_product_voltages + (-YR)*(-(diff_product_voltages)))\n",
      "                             ^\n",
      "\n",
      "parse error:\n",
      "\n",
      "  syntax error\n",
      "\n",
      ">>> end\n",
      "      ^\n",
      "\n"
     ]
    }
   ],
   "source": [
    "function constraint_line_balance!(model, YR, YI, B, sqrd_volt_i, sqrd_volt_j, sum_product_voltages,  diff_product_voltages, i, j, l)\n",
    "    SR = model[Symbol(\"SR\")]\n",
    "    SI = model[Symbol(\"SI\")]\n",
    "    \n",
    "    @constraint(model, SR[(i,j,l)] == YR*sqrd_volt_i + (-YR)*sum_product_voltages + (-YI)*(diff_product_voltages))\n",
    "            \n",
    "    @constraint(model, SI[(i,j,l)] == -(YI+B/2)*sqrd_volt_i - (-YI)*sum_product_voltages + (-YR)*diff_product_voltages)\n",
    "\n",
    "    @constraint(model, SR[(j,i,l)] == YR*sqrd_volt_j + (-YR)*sum_product_voltages + (-YI)*(-(diff_product_voltages)))\n",
    "\n",
    "    @constraint(model, SI[(j,i,l)] == -(YI+B/2)*sqrd_volt_j - (-YI)*sum_product_voltages + (-YR)*(-(diff_product_voltages)))\n",
    "end"
   ]
  },
  {
   "cell_type": "markdown",
   "metadata": {},
   "source": [
    "### Line thermal limit\n",
    "\n",
    "- Constraints:\n",
    "    - $(S_{lij}^{Re})^2 + (S_{lij}^{Im})^2 \\leq (s_l^u)^2 \\hspace{0.2cm} \\forall (l,i,j) \\in \\mathcal{L}$"
   ]
  },
  {
   "cell_type": "code",
   "execution_count": 16,
   "metadata": {
    "ExecuteTime": {
     "end_time": "2021-12-27T16:00:00.126000-03:00",
     "start_time": "2021-12-27T18:59:46.693Z"
    },
    "vscode": {
     "languageId": "julia"
    }
   },
   "outputs": [
    {
     "name": "stdout",
     "output_type": "stream",
     "text": [
      "parse error:\n",
      "\n",
      "  syntax error\n",
      "\n",
      ">>> function line_thermal_bounds_sqrd!(model,thermal_lim, i, j, l)\n",
      "                                            ^\n",
      "\n",
      "parse error:\n",
      "\n",
      "  syntax error\n",
      "\n",
      ">>>     SR = model[Symbol(\"SR\")]\n",
      "                  ^\n",
      "\n",
      "parse error:\n",
      "\n",
      "  syntax error\n",
      "\n",
      ">>>     SI = model[Symbol(\"SI\")]\n",
      "                  ^\n",
      "\n",
      "parse error:\n",
      "\n",
      "  syntax error\n",
      "\n",
      ">>>     @constraint(model, SI[(i,j,l)]^2+SR[(i,j,l)]^2 <= thermal_lim[l]^2)\n",
      "                             ^\n",
      "\n",
      "parse error:\n",
      "\n",
      "  syntax error\n",
      "\n",
      ">>>     @constraint(model, SI[(j,i,l)]^2+SR[(j,i,l)]^2 <= thermal_lim[l]^2)\n",
      "                             ^\n",
      "\n",
      "parse error:\n",
      "\n",
      "  syntax error\n",
      "\n",
      ">>> end\n",
      "      ^\n",
      "\n"
     ]
    }
   ],
   "source": [
    "function line_thermal_bounds_sqrd!(model,thermal_lim, i, j, l)\n",
    "    SR = model[Symbol(\"SR\")]\n",
    "    SI = model[Symbol(\"SI\")]\n",
    "    \n",
    "    @constraint(model, SI[(i,j,l)]^2+SR[(i,j,l)]^2 <= thermal_lim[l]^2)\n",
    "    @constraint(model, SI[(j,i,l)]^2+SR[(j,i,l)]^2 <= thermal_lim[l]^2)\n",
    "end"
   ]
  },
  {
   "cell_type": "markdown",
   "metadata": {},
   "source": [
    "### Phase Angle Differences\n",
    "\n",
    "- Constraints:\n",
    "    - $ c_{ij} \\tan(\\theta_{min}) \\leq s_{ij} \\leq c_{ij} \\tan(\\theta_{max})$\n",
    "    - $c_{ij} = V_i^{Re}V_j^{Re}+V_i^{Im}V_j^{Im}$\n",
    "\t- $s_{ij} = V_i^{Im}V_j^{Re}-V_i^{Re}V_j^{Im}$"
   ]
  },
  {
   "cell_type": "code",
   "execution_count": 17,
   "metadata": {
    "ExecuteTime": {
     "end_time": "2021-12-27T16:00:00.241000-03:00",
     "start_time": "2021-12-27T18:59:46.696Z"
    },
    "code_folding": [],
    "vscode": {
     "languageId": "julia"
    }
   },
   "outputs": [
    {
     "name": "stdout",
     "output_type": "stream",
     "text": [
      "parse error:\n",
      "\n",
      "  syntax error\n",
      "\n",
      ">>> function constraint_phase_angle_diff!(model, ang_max, ang_min, sum_product_voltages,  diff_product_voltages, i, j, l) \n",
      "                                               ^\n",
      "\n",
      "parse error:\n",
      "\n",
      "  syntax error\n",
      "\n",
      ">>>     @constraint(model, diff_product_voltages <= tan(ang_max[l])*sum_product_voltages)\n",
      "                                                               ^\n",
      "\n",
      "parse error:\n",
      "\n",
      "  syntax error\n",
      "\n",
      ">>>     @constraint(model, diff_product_voltages >= tan(ang_min[l])*sum_product_voltages)\n",
      "                                                               ^\n",
      "\n",
      "parse error:\n",
      "\n",
      "  syntax error\n",
      "\n",
      ">>> end\n",
      "      ^\n",
      "\n"
     ]
    }
   ],
   "source": [
    "function constraint_phase_angle_diff!(model, ang_max, ang_min, sum_product_voltages,  diff_product_voltages, i, j, l) \n",
    "    @constraint(model, diff_product_voltages <= tan(ang_max[l])*sum_product_voltages)\n",
    "    @constraint(model, diff_product_voltages >= tan(ang_min[l])*sum_product_voltages)\n",
    "end"
   ]
  },
  {
   "cell_type": "markdown",
   "metadata": {},
   "source": [
    "## Objective Function"
   ]
  },
  {
   "cell_type": "markdown",
   "metadata": {},
   "source": [
    "### Generator fuel cost minimization\n",
    "- $\\min \\sum_{k \\in \\mathcal{G}} c_{2k} (p_k^g)^2 + c_{1k} p_k^g + c_{0k}$"
   ]
  },
  {
   "cell_type": "code",
   "execution_count": 18,
   "metadata": {
    "ExecuteTime": {
     "end_time": "2021-12-27T16:00:00.346000-03:00",
     "start_time": "2021-12-27T18:59:46.700Z"
    },
    "vscode": {
     "languageId": "julia"
    }
   },
   "outputs": [
    {
     "name": "stdout",
     "output_type": "stream",
     "text": [
      "parse error:\n",
      "\n",
      "  syntax error\n",
      "\n",
      ">>> function add_objective!(model, GeneratorCosts)\n",
      "                                 ^\n",
      "\n",
      "parse error:\n",
      "\n",
      "  syntax error\n",
      "\n",
      ">>>     p_g = model[Symbol(\"p_g\")]\n",
      "                   ^\n",
      "\n",
      "parse error:\n",
      "\n",
      "  syntax error\n",
      "\n",
      ">>>     q_g = model[Symbol(\"q_g\")]\n",
      "                   ^\n",
      "\n",
      "parse error:\n",
      "\n",
      "  syntax error\n",
      "\n",
      ">>>     obj = sum([GeneratorCosts[k].c2*p_g[k]^2*100.0^2+GeneratorCosts[k].c1*p_g[k]*100.0+GeneratorCosts[k].c0 for k = 1:length(GeneratorCosts)])\n",
      "                                 ^\n",
      "\n",
      "error: @objective: no function and no method found\n",
      "parse error:\n",
      "\n",
      "  syntax error\n",
      "\n",
      ">>> end\n",
      "      ^\n",
      "\n"
     ]
    }
   ],
   "source": [
    "function add_objective!(model, GeneratorCosts)\n",
    "    p_g = model[Symbol(\"p_g\")]\n",
    "    q_g = model[Symbol(\"q_g\")]\n",
    "    obj = sum([GeneratorCosts[k].c2*p_g[k]^2*100.0^2+GeneratorCosts[k].c1*p_g[k]*100.0+GeneratorCosts[k].c0 for k = 1:length(GeneratorCosts)])\n",
    "    @objective(model, Min, obj)\n",
    "end"
   ]
  },
  {
   "cell_type": "markdown",
   "metadata": {},
   "source": [
    "# Convex Relaxations"
   ]
  },
  {
   "cell_type": "markdown",
   "metadata": {},
   "source": [
    "Consider the complex matrix $X \\in \\mathbb{R}^{\\mathcal{|B|}\\times \\mathcal{|B|}}$\n",
    "- $X = V(V^T)^*$\n",
    "- $X_{ij} = V_iV_j^* \\hspace{0.2cm} \\forall (i,j) \\in \\mathcal{B}^2$\n",
    "\n",
    "$X$ is positive semidefinite matrix with rank $1$."
   ]
  },
  {
   "cell_type": "markdown",
   "metadata": {},
   "source": [
    "We can substitute the complex matrix to a real matrix $W \\in \\mathbb{R}^{2\\mathcal{|B|}\\times 2 \\mathcal{|B|}}$, with the following transformations:\n",
    "\n",
    "- $W_{ij}   = V_i^{Re}V_j^{Re} \\hspace{0.2cm} \\forall (i,j) \\in \\mathcal{B}^2$\n",
    "- $W_{i'j'} = V_i^{Im}V_j^{Im} \\hspace{0.2cm} \\forall (i,j) \\in \\mathcal{B}^2$\n",
    "- $W_{i'j}  = V_i^{Im}V_j^{Re} \\hspace{0.2cm} \\forall (i,j) \\in \\mathcal{B}^2$\n",
    "- $W_{ij'}  = V_i^{Re}V_j^{Im} \\hspace{0.2cm} \\forall (i,j) \\in \\mathcal{B}^2$\n",
    "\n",
    "Where $i' = i + |\\mathcal{B}|$ and $j' = i + |\\mathcal{B}|$.\n",
    "\n",
    "$W$ is positive semidefinite matrix with rank $1$."
   ]
  },
  {
   "cell_type": "markdown",
   "metadata": {},
   "source": [
    "## McCormick Envelopes"
   ]
  },
  {
   "cell_type": "markdown",
   "metadata": {},
   "source": [
    "The McCormick envelopes are the convex hull of the set $\\{(x,y,w) \\hspace{0.1cm} | \\hspace{0.1cm} w = xy, (x,y) \\in [\\underline{x}, \\bar{x}] \\times [\\underline{y}, \\bar{y}]\\}$, which are:\n",
    "- $MC(w = xy) = \\{(x, y, w): \\max \\{\\underline{y} x+\\underline{x} y-\\underline{x} \\underline{y}, \\bar{y} x+\\bar{x} y-\\overline{x y}\\} \\leq w \\leq \\min \\{\\underline{y} x+\\bar{x} y-\\bar{x} \\underline{y}, \\bar{y} x+\\underline{x} y-\\underline{x} \\bar{y}\\}\\}$"
   ]
  },
  {
   "cell_type": "markdown",
   "metadata": {},
   "source": [
    "### Function to make McCormick envelopes"
   ]
  },
  {
   "cell_type": "code",
   "execution_count": 19,
   "metadata": {
    "ExecuteTime": {
     "end_time": "2021-12-27T16:00:00.456000-03:00",
     "start_time": "2021-12-27T18:59:46.706Z"
    },
    "vscode": {
     "languageId": "julia"
    }
   },
   "outputs": [
    {
     "name": "stdout",
     "output_type": "stream",
     "text": [
      "parse error:\n",
      "\n",
      "  syntax error\n",
      "\n",
      ">>> function MC_Envelopes!(model,w,x,y)\n",
      "                                ^\n",
      "\n",
      "error: 'x' undefined near line 1 column 24\n",
      "error: 'x' undefined near line 1 column 26\n",
      "error: 'y' undefined near line 1 column 24\n",
      "error: 'y' undefined near line 1 column 26\n",
      "error: @constraint: no function and no method found\n",
      "error: @constraint: no function and no method found\n",
      "error: @constraint: no function and no method found\n",
      "error: @constraint: no function and no method found\n",
      "parse error:\n",
      "\n",
      "  syntax error\n",
      "\n",
      ">>> end\n",
      "      ^\n",
      "\n"
     ]
    }
   ],
   "source": [
    "function MC_Envelopes!(model,w,x,y)\n",
    "    x_up = upper_bound(x) \n",
    "    x_down = lower_bound(x)\n",
    "    y_up = upper_bound(y) \n",
    "    y_down = lower_bound(y)\n",
    "    @constraint(model, y_down*x+x_down*y-x_down*y_down <= w)\n",
    "    @constraint(model, w <= y_down*x+x_up*y-x_up*y_down)\n",
    "    @constraint(model, y_up*x+x_up*y-x_up*y_up <= w)\n",
    "    @constraint(model, w <= y_up*x+x_down*y-x_down*y_up)\n",
    "end"
   ]
  },
  {
   "cell_type": "markdown",
   "metadata": {},
   "source": [
    "### Relaxation with McCormick Envelopes"
   ]
  },
  {
   "cell_type": "markdown",
   "metadata": {},
   "source": [
    "- $MC(W_{ij}   = V_i^{Re}V_j^{Re}) \\hspace{0.2cm} \\forall (i,j) \\in \\mathcal{B}^2$\n",
    "- $MC(W_{i'j'} = V_i^{Im}V_j^{Im}) \\hspace{0.2cm} \\forall (i,j) \\in \\mathcal{B}^2$\n",
    "- $MC(W_{i'j}  = V_i^{Im}V_j^{Re}) \\hspace{0.2cm} \\forall (i,j) \\in \\mathcal{B}^2$\n",
    "- $MC(W_{ij'}  = V_i^{Re}V_j^{Im}) \\hspace{0.2cm} \\forall (i,j) \\in \\mathcal{B}^2$"
   ]
  },
  {
   "cell_type": "code",
   "execution_count": 20,
   "metadata": {
    "ExecuteTime": {
     "end_time": "2021-12-27T16:00:00.562000-03:00",
     "start_time": "2021-12-27T18:59:46.710Z"
    },
    "vscode": {
     "languageId": "julia"
    }
   },
   "outputs": [
    {
     "name": "stdout",
     "output_type": "stream",
     "text": [
      "parse error:\n",
      "\n",
      "  syntax error\n",
      "\n",
      ">>> function MC_relaxation!(model,Buses,Branches)\n",
      "                                 ^\n",
      "\n",
      "parse error:\n",
      "\n",
      "  syntax error\n",
      "\n",
      ">>>     VR = model[Symbol(\"VR\")]\n",
      "                  ^\n",
      "\n",
      "parse error:\n",
      "\n",
      "  syntax error\n",
      "\n",
      ">>>     VI = model[Symbol(\"VI\")]\n",
      "                  ^\n",
      "\n",
      "parse error:\n",
      "\n",
      "  syntax error\n",
      "\n",
      ">>>     @variable(model, W[i=1:2*length(Buses),j=1:2*length(Buses)])\n",
      "                          ^\n",
      "\n",
      "parse error:\n",
      "\n",
      "  syntax error\n",
      "\n",
      ">>>     s = x -> x+length(Buses)\n",
      "               ^\n",
      "\n",
      "parse error:\n",
      "\n",
      "  syntax error\n",
      "\n",
      ">>>     sqrd_volt = [W[i,i]+W[s(i),s(i)] for i=1:length(Buses)]\n",
      "                      ^\n",
      "\n",
      "parse error:\n",
      "\n",
      "  syntax error\n",
      "\n",
      ">>>         MC_Envelopes!(model, W[i,i], VR[i], VR[i])\n",
      "                        ^\n",
      "\n",
      "parse error:\n",
      "\n",
      "  syntax error\n",
      "\n",
      ">>>         MC_Envelopes!(model, W[s(i),s(i)], VI[i], VI[i])\n",
      "                        ^\n",
      "\n",
      "parse error:\n",
      "\n",
      "  syntax error\n",
      "\n",
      ">>>     end\n",
      "          ^\n",
      "\n",
      "parse error:\n",
      "\n",
      "  syntax error\n",
      "\n",
      ">>>         for (j,l) in zip(From_nodes(i,Branches,Buses)...)    \n",
      "                  ^\n",
      "\n",
      "parse error:\n",
      "\n",
      "  syntax error\n",
      "\n",
      ">>>             MC_Envelopes!(model,W[i,j]      ,VR[i],VR[j])\n",
      "                            ^\n",
      "\n",
      "parse error:\n",
      "\n",
      "  syntax error\n",
      "\n",
      ">>>             MC_Envelopes!(model,W[s(i),s(j)],VI[i],VI[j])\n",
      "                            ^\n",
      "\n",
      "parse error:\n",
      "\n",
      "  syntax error\n",
      "\n",
      ">>>             MC_Envelopes!(model,W[s(i),j]   ,VI[i],VR[j])\n",
      "                            ^\n",
      "\n",
      "parse error:\n",
      "\n",
      "  syntax error\n",
      "\n",
      ">>>             MC_Envelopes!(model,W[j,i]      ,VR[j],VR[i])\n",
      "                            ^\n",
      "\n",
      "parse error:\n",
      "\n",
      "  syntax error\n",
      "\n",
      ">>>             MC_Envelopes!(model,W[s(j),s(i)],VI[j],VI[i])\n",
      "                            ^\n",
      "\n",
      "parse error:\n",
      "\n",
      "  syntax error\n",
      "\n",
      ">>>             MC_Envelopes!(model,W[j,s(i)]   ,VR[i],VI[j])\n",
      "                            ^\n",
      "\n",
      "parse error:\n",
      "\n",
      "  syntax error\n",
      "\n",
      ">>>         end\n",
      "              ^\n",
      "\n",
      "parse error:\n",
      "\n",
      "  syntax error\n",
      "\n",
      ">>>     end\n",
      "          ^\n",
      "\n",
      "parse error:\n",
      "\n",
      "  syntax error\n",
      "\n",
      ">>> end\n",
      "      ^\n",
      "\n"
     ]
    }
   ],
   "source": [
    "function MC_relaxation!(model,Buses,Branches)\n",
    "    VR = model[Symbol(\"VR\")]\n",
    "    VI = model[Symbol(\"VI\")]\n",
    "    @variable(model, W[i=1:2*length(Buses),j=1:2*length(Buses)])\n",
    "    s = x -> x+length(Buses)\n",
    "    sqrd_volt = [W[i,i]+W[s(i),s(i)] for i=1:length(Buses)]\n",
    "    for i=1:length(Buses)\n",
    "        MC_Envelopes!(model, W[i,i], VR[i], VR[i])\n",
    "        MC_Envelopes!(model, W[s(i),s(i)], VI[i], VI[i])\n",
    "    end\n",
    "    for i=1:length(Buses)\n",
    "        for (j,l) in zip(From_nodes(i,Branches,Buses)...)    \n",
    "            MC_Envelopes!(model,W[i,j]      ,VR[i],VR[j])\n",
    "            MC_Envelopes!(model,W[s(i),s(j)],VI[i],VI[j])\n",
    "            MC_Envelopes!(model,W[s(i),j]   ,VI[i],VR[j])\n",
    "            MC_Envelopes!(model,W[j,i]      ,VR[j],VR[i])\n",
    "            MC_Envelopes!(model,W[s(j),s(i)],VI[j],VI[i])\n",
    "            MC_Envelopes!(model,W[j,s(i)]   ,VR[i],VI[j])\n",
    "        end\n",
    "    end\n",
    "end"
   ]
  },
  {
   "cell_type": "markdown",
   "metadata": {},
   "source": [
    "## Semidefinite Relaxation"
   ]
  },
  {
   "cell_type": "markdown",
   "metadata": {},
   "source": [
    "- The rank $1$ restriction of $W$ matrix is non-convex, so we remove this constraint."
   ]
  },
  {
   "cell_type": "code",
   "execution_count": 21,
   "metadata": {
    "ExecuteTime": {
     "end_time": "2021-12-27T16:00:00.680000-03:00",
     "start_time": "2021-12-27T18:59:46.713Z"
    },
    "vscode": {
     "languageId": "julia"
    }
   },
   "outputs": [
    {
     "name": "stdout",
     "output_type": "stream",
     "text": [
      "parse error:\n",
      "\n",
      "  syntax error\n",
      "\n",
      ">>> function SDP_relaxation!(model,Buses)\n",
      "                                  ^\n",
      "\n",
      "parse error:\n",
      "\n",
      "  syntax error\n",
      "\n",
      ">>>     @variable(model, W[i=1:2*length(Buses),j=1:2*length(Buses)],PSD)\n",
      "                          ^\n",
      "\n",
      "parse error:\n",
      "\n",
      "  syntax error\n",
      "\n",
      ">>> end\n",
      "      ^\n",
      "\n"
     ]
    }
   ],
   "source": [
    "function SDP_relaxation!(model,Buses)\n",
    "    @variable(model, W[i=1:2*length(Buses),j=1:2*length(Buses)],PSD)\n",
    "end"
   ]
  },
  {
   "cell_type": "markdown",
   "metadata": {},
   "source": [
    "## Second Order Cone Relaxation"
   ]
  },
  {
   "cell_type": "markdown",
   "metadata": {},
   "source": [
    "The SOCP relaxation consists in relaxing the equalitry $X = V(V^*)^T$ to an inequality\n",
    "\n",
    "$\\hspace{0.5cm} \\begin{array}{l}\n",
    "\tX_{i j}=V_{i} V_{j}^{*} \\\\\n",
    "\tX_{i j} X_{i j}^{*}=V_{i} V_{j}^{*} V_{i}^{*} V_{j} \\\\\n",
    "\t\\left|X_{i j}\\right|^{2}=X_{i i} X_{j j} \\\\\n",
    "\t\\left|X_{i j}\\right|^{2} \\leqslant X_{i i} X_{j j}\n",
    "\t\\end{array}$\n",
    "\n",
    "Writing as a second order cone:\n",
    "\n",
    "$\\hspace{0.5cm} \\left|\\left(\\begin{array}{c}\n",
    "\t\t2 X_{i j} \\\\\n",
    "\t\tX_{i i}-X_{j j}\n",
    "\t\t\\end{array}\\right) \\right| \\leqslant X_{i i}+X_{j j}$\n",
    "        \n",
    "In function of $W$:\n",
    "\n",
    "$\\hspace{0.5cm} \\left|\\left(\\begin{array}{c}\n",
    "2(W_{i j}+W_{i' j'}) \\\\\n",
    "W_{i i}+W_{i' i'}-W_{j j}-W_{j' j'}\n",
    "\\end{array}\\right) \\right| \\leqslant W_{i i}+W_{i' i'}+W_{j j}+W_{j' j'}$"
   ]
  },
  {
   "cell_type": "code",
   "execution_count": 22,
   "metadata": {
    "ExecuteTime": {
     "end_time": "2021-12-27T16:00:00.789000-03:00",
     "start_time": "2021-12-27T18:59:46.717Z"
    },
    "vscode": {
     "languageId": "julia"
    }
   },
   "outputs": [
    {
     "name": "stdout",
     "output_type": "stream",
     "text": [
      "parse error:\n",
      "\n",
      "  syntax error\n",
      "\n",
      ">>> function SOCP_relaxation!(model,Buses,Branches)\n",
      "                                   ^\n",
      "\n",
      "parse error:\n",
      "\n",
      "  syntax error\n",
      "\n",
      ">>>     @variable(model, W[i=1:2*length(Buses),j=1:2*length(Buses)])\n",
      "                          ^\n",
      "\n",
      "parse error:\n",
      "\n",
      "  syntax error\n",
      "\n",
      ">>>     s = x -> x+length(Buses)\n",
      "               ^\n",
      "\n",
      "parse error:\n",
      "\n",
      "  syntax error\n",
      "\n",
      ">>>         for (j,l) in zip(From_nodes(i,Branches,Buses)...)\n",
      "                  ^\n",
      "\n",
      "parse error:\n",
      "\n",
      "  syntax error\n",
      "\n",
      ">>>             @constraint(model, [W[i,i]+W[s(i),s(i)]+W[j,j]+W[s(j),s(j)], 2*(W[i,j]+W[s(i),s(j)]), W[i,i]+W[s(i),s(i)]-W[j,j]-W[s(j),s(j)]] in SecondOrderCone())\n",
      "                                     ^\n",
      "\n",
      "parse error:\n",
      "\n",
      "  syntax error\n",
      "\n",
      ">>>         end\n",
      "              ^\n",
      "\n",
      "parse error:\n",
      "\n",
      "  syntax error\n",
      "\n",
      ">>>     end\n",
      "          ^\n",
      "\n",
      "parse error:\n",
      "\n",
      "  syntax error\n",
      "\n",
      ">>> end\n",
      "      ^\n",
      "\n"
     ]
    }
   ],
   "source": [
    "function SOCP_relaxation!(model,Buses,Branches)\n",
    "    @variable(model, W[i=1:2*length(Buses),j=1:2*length(Buses)])\n",
    "    s = x -> x+length(Buses)\n",
    "    for i=1:length(Buses)\n",
    "        for (j,l) in zip(From_nodes(i,Branches,Buses)...)\n",
    "            @constraint(model, [W[i,i]+W[s(i),s(i)]+W[j,j]+W[s(j),s(j)], 2*(W[i,j]+W[s(i),s(j)]), W[i,i]+W[s(i),s(i)]-W[j,j]-W[s(j),s(j)]] in SecondOrderCone())\n",
    "        end\n",
    "    end\n",
    "end"
   ]
  },
  {
   "cell_type": "markdown",
   "metadata": {},
   "source": [
    "# Model"
   ]
  },
  {
   "cell_type": "code",
   "execution_count": 23,
   "metadata": {
    "ExecuteTime": {
     "end_time": "2021-12-27T16:00:00.881000-03:00",
     "start_time": "2021-12-27T18:59:46.720Z"
    },
    "code_folding": [],
    "vscode": {
     "languageId": "julia"
    }
   },
   "outputs": [
    {
     "name": "stdout",
     "output_type": "stream",
     "text": [
      "parse error:\n",
      "\n",
      "  invalid parameter list\n",
      "\n",
      ">>> function build_problem(file::String, optimizer, relaxation::RELAXATION)\n",
      "                               ^\n",
      "\n",
      "error: 'Buses' undefined near line 1 column 5\n",
      "error: 'YR' undefined near line 1 column 5\n",
      "error: 'optimizer' undefined near line 1 column 19\n",
      "parse error:\n",
      "\n",
      "  syntax error\n",
      "\n",
      ">>>         add_global_variables!(model, Buses, Generators, Branches, thermal_lim, start = true)\n",
      "                                ^\n",
      "\n",
      "parse error:\n",
      "\n",
      "  syntax error\n",
      "\n",
      ">>>     else\n",
      "           ^\n",
      "\n",
      "parse error:\n",
      "\n",
      "  syntax error\n",
      "\n",
      ">>>         add_global_variables!(model, Buses, Generators, Branches, thermal_lim)\n",
      "                                ^\n",
      "\n",
      "parse error:\n",
      "\n",
      "  syntax error\n",
      "\n",
      ">>>     end\n",
      "          ^\n",
      "\n",
      "parse error:\n",
      "\n",
      "  syntax error\n",
      "\n",
      ">>>     add_objective!(model, GeneratorCosts)\n",
      "                     ^\n",
      "\n",
      "parse error:\n",
      "\n",
      "  syntax error\n",
      "\n",
      ">>>         add_voltage_variables!(model, Buses, start = true)\n",
      "                                 ^\n",
      "\n",
      "parse error:\n",
      "\n",
      "  syntax error\n",
      "\n",
      ">>>     elseif relaxation == MC\n",
      "             ^\n",
      "\n",
      "parse error:\n",
      "\n",
      "  syntax error\n",
      "\n",
      ">>>         add_voltage_variables!(model, Buses)\n",
      "                                 ^\n",
      "\n",
      "parse error:\n",
      "\n",
      "  syntax error\n",
      "\n",
      ">>>     end\n",
      "          ^\n",
      "\n",
      "parse error:\n",
      "\n",
      "  syntax error\n",
      "\n",
      ">>>         add_reference_angle!(model, Buses)\n",
      "                               ^\n",
      "\n",
      "parse error:\n",
      "\n",
      "  syntax error\n",
      "\n",
      ">>>         VR = model[Symbol(\"VR\")]\n",
      "                      ^\n",
      "\n",
      "parse error:\n",
      "\n",
      "  syntax error\n",
      "\n",
      ">>>         VI = model[Symbol(\"VI\")]\n",
      "                      ^\n",
      "\n",
      "parse error:\n",
      "\n",
      "  syntax error\n",
      "\n",
      ">>>     end\n",
      "          ^\n",
      "\n",
      "error: 'relaxation' undefined near line 1 column 8\n",
      "parse error:\n",
      "\n",
      "  syntax error\n",
      "\n",
      ">>>         MC_relaxation!(model,Buses,Branches)\n",
      "                         ^\n",
      "\n",
      "parse error:\n",
      "\n",
      "  syntax error\n",
      "\n",
      ">>>     end\n",
      "          ^\n",
      "\n",
      "parse error:\n",
      "\n",
      "  syntax error\n",
      "\n",
      ">>>         SDP_relaxation!(model,Buses)\n",
      "                          ^\n",
      "\n",
      "parse error:\n",
      "\n",
      "  syntax error\n",
      "\n",
      ">>>     end\n",
      "          ^\n",
      "\n",
      "parse error:\n",
      "\n",
      "  syntax error\n",
      "\n",
      ">>>         SOCP_relaxation!(model,Buses,Branches)\n",
      "                           ^\n",
      "\n",
      "parse error:\n",
      "\n",
      "  syntax error\n",
      "\n",
      ">>>     end\n",
      "          ^\n",
      "\n",
      "parse error:\n",
      "\n",
      "  syntax error\n",
      "\n",
      ">>>         W = model[Symbol(\"W\")]\n",
      "                     ^\n",
      "\n",
      "parse error:\n",
      "\n",
      "  syntax error\n",
      "\n",
      ">>>         s = x -> x+length(Buses)\n",
      "                   ^\n",
      "\n",
      "parse error:\n",
      "\n",
      "  syntax error\n",
      "\n",
      ">>>         sqrd_volt = [W[i,i]+W[s(i),s(i)] for i=1:length(Buses)]\n",
      "                          ^\n",
      "\n",
      "parse error:\n",
      "\n",
      "  syntax error\n",
      "\n",
      ">>>     end\n",
      "          ^\n",
      "\n",
      "parse error:\n",
      "\n",
      "  syntax error\n",
      "\n",
      ">>>         constraint_power_balance!(model, Buses, Generators, Branches, sqrd_volt[i], i)\n",
      "                                    ^\n",
      "\n",
      "parse error:\n",
      "\n",
      "  syntax error\n",
      "\n",
      ">>>         voltage_bounds_sqrd!(model, Buses, sqrd_volt[i], i)\n",
      "                               ^\n",
      "\n",
      "parse error:\n",
      "\n",
      "  syntax error\n",
      "\n",
      ">>>     end\n",
      "          ^\n",
      "\n",
      "parse error:\n",
      "\n",
      "  syntax error\n",
      "\n",
      ">>>         for (j,l) in zip(From_nodes(i,Branches,Buses)...)\n",
      "                  ^\n",
      "\n",
      "parse error:\n",
      "\n",
      "  syntax error\n",
      "\n",
      ">>>                 sum_product_voltages  = VR[i]*VR[j]+VI[i]*VI[j]\n",
      "                                              ^\n",
      "\n",
      "parse error:\n",
      "\n",
      "  syntax error\n",
      "\n",
      ">>>                 diff_product_voltages = VI[i]*VR[j]-VR[i]*VI[j]\n",
      "                                              ^\n",
      "\n",
      "parse error:\n",
      "\n",
      "  syntax error\n",
      "\n",
      ">>>             elseif relaxation == MC || relaxation == SDP || relaxation == SOCP\n",
      "                     ^\n",
      "\n",
      "parse error:\n",
      "\n",
      "  syntax error\n",
      "\n",
      ">>>                 sum_product_voltages  = W[i,j]+W[s(i),s(j)]\n",
      "                                             ^\n",
      "\n",
      "parse error:\n",
      "\n",
      "  syntax error\n",
      "\n",
      ">>>                 diff_product_voltages = W[s(j),i]-W[s(i),j]\n",
      "                                             ^\n",
      "\n",
      "parse error:\n",
      "\n",
      "  syntax error\n",
      "\n",
      ">>>             end\n",
      "                  ^\n",
      "\n",
      "parse error:\n",
      "\n",
      "  syntax error\n",
      "\n",
      ">>>             constraint_line_balance!(model, YR[l], YI[l], B[l], sqrd_volt[i], sqrd_volt[j], sum_product_voltages,  diff_product_voltages, i, j, l)\n",
      "                                       ^\n",
      "\n",
      "parse error:\n",
      "\n",
      "  syntax error\n",
      "\n",
      ">>>             constraint_phase_angle_diff!(model, ang_max, ang_min, sum_product_voltages, diff_product_voltages, i, j, l)\n",
      "                                           ^\n",
      "\n",
      "parse error:\n",
      "\n",
      "  syntax error\n",
      "\n",
      ">>>             line_thermal_bounds_sqrd!(model,thermal_lim, i, j, l)\n",
      "                                        ^\n",
      "\n",
      "parse error:\n",
      "\n",
      "  syntax error\n",
      "\n",
      ">>>         end\n",
      "              ^\n",
      "\n",
      "parse error:\n",
      "\n",
      "  syntax error\n",
      "\n",
      ">>>     end\n",
      "          ^\n",
      "\n",
      "parse error:\n",
      "\n",
      "  syntax error\n",
      "\n",
      ">>>     return model\n",
      "                   ^\n",
      "\n",
      "parse error:\n",
      "\n",
      "  syntax error\n",
      "\n",
      ">>> end\n",
      "      ^\n",
      "\n"
     ]
    }
   ],
   "source": [
    "function build_problem(file::String, optimizer, relaxation::RELAXATION)\n",
    "    Buses, Generators, GeneratorCosts, Branches = read_matlab_file(file);\n",
    "    YR,YI,TR,TI,B,thermal_lim,ang_min,ang_max = add_constants(Branches)\n",
    "    model = Model(optimizer)\n",
    "    if relaxation == NL\n",
    "        add_global_variables!(model, Buses, Generators, Branches, thermal_lim, start = true)\n",
    "    else\n",
    "        add_global_variables!(model, Buses, Generators, Branches, thermal_lim)\n",
    "    end\n",
    "    add_objective!(model, GeneratorCosts)\n",
    "    \n",
    "    if relaxation == NL \n",
    "        add_voltage_variables!(model, Buses, start = true)\n",
    "    elseif relaxation == MC\n",
    "        add_voltage_variables!(model, Buses)\n",
    "    end\n",
    "    if relaxation == NL || relaxation == MC\n",
    "        add_reference_angle!(model, Buses)\n",
    "        VR = model[Symbol(\"VR\")]\n",
    "        VI = model[Symbol(\"VI\")]\n",
    "    end\n",
    "    \n",
    "    if relaxation == NL\n",
    "        sqrd_volt = VR.^2 .+ VI.^2\n",
    "    end\n",
    "    \n",
    "        \n",
    "    if relaxation == MC\n",
    "        MC_relaxation!(model,Buses,Branches)\n",
    "    end\n",
    "    if relaxation == SDP\n",
    "        SDP_relaxation!(model,Buses)\n",
    "    end\n",
    "    if relaxation == SOCP\n",
    "        SOCP_relaxation!(model,Buses,Branches)\n",
    "    end\n",
    "    \n",
    "    if relaxation == MC || relaxation == SDP || relaxation == SOCP\n",
    "        W = model[Symbol(\"W\")]\n",
    "        s = x -> x+length(Buses)\n",
    "        sqrd_volt = [W[i,i]+W[s(i),s(i)] for i=1:length(Buses)]\n",
    "    end\n",
    "    \n",
    "    for i=1:length(Buses)\n",
    "        constraint_power_balance!(model, Buses, Generators, Branches, sqrd_volt[i], i)\n",
    "        voltage_bounds_sqrd!(model, Buses, sqrd_volt[i], i)\n",
    "    end\n",
    "    \n",
    "    for i=1:length(Buses)\n",
    "        for (j,l) in zip(From_nodes(i,Branches,Buses)...)\n",
    "            if relaxation == NL\n",
    "                sum_product_voltages  = VR[i]*VR[j]+VI[i]*VI[j]\n",
    "                diff_product_voltages = VI[i]*VR[j]-VR[i]*VI[j]\n",
    "            elseif relaxation == MC || relaxation == SDP || relaxation == SOCP\n",
    "                sum_product_voltages  = W[i,j]+W[s(i),s(j)]\n",
    "                diff_product_voltages = W[s(j),i]-W[s(i),j]\n",
    "            end\n",
    "            constraint_line_balance!(model, YR[l], YI[l], B[l], sqrd_volt[i], sqrd_volt[j], sum_product_voltages,  diff_product_voltages, i, j, l)\n",
    "            constraint_phase_angle_diff!(model, ang_max, ang_min, sum_product_voltages, diff_product_voltages, i, j, l)\n",
    "            line_thermal_bounds_sqrd!(model,thermal_lim, i, j, l)\n",
    "        end\n",
    "    end\n",
    "    return model\n",
    "end"
   ]
  },
  {
   "cell_type": "markdown",
   "metadata": {},
   "source": [
    "# Tests"
   ]
  },
  {
   "cell_type": "markdown",
   "metadata": {},
   "source": [
    "## 5 buses"
   ]
  },
  {
   "cell_type": "markdown",
   "metadata": {},
   "source": [
    "$|\\mathcal{B}| = 5 $\n",
    "\n",
    "$|\\mathcal{L}| = 6 $\n",
    "\n",
    "$|\\mathcal{G}| = 5 $"
   ]
  },
  {
   "cell_type": "code",
   "execution_count": 24,
   "metadata": {
    "ExecuteTime": {
     "end_time": "2021-12-27T16:00:01.363000-03:00",
     "start_time": "2021-12-27T18:59:46.725Z"
    },
    "vscode": {
     "languageId": "julia"
    }
   },
   "outputs": [
    {
     "name": "stdout",
     "output_type": "stream",
     "text": [
      "parse error:\n",
      "\n",
      "  syntax error\n",
      "\n",
      ">>> case_test = case_tests[2]\n",
      "                          ^\n",
      "\n"
     ]
    }
   ],
   "source": [
    "case_test = case_tests[2]"
   ]
  },
  {
   "cell_type": "code",
   "execution_count": 25,
   "metadata": {
    "ExecuteTime": {
     "end_time": "2021-12-27T16:00:01.368000-03:00",
     "start_time": "2021-12-27T18:59:46.728Z"
    },
    "vscode": {
     "languageId": "julia"
    }
   },
   "outputs": [
    {
     "name": "stdout",
     "output_type": "stream",
     "text": [
      "parse error:\n",
      "\n",
      "  syntax error\n",
      "\n",
      ">>> optimal_value = case_test[2][1]\n",
      "                             ^\n",
      "\n",
      "parse error:\n",
      "\n",
      "  syntax error\n",
      "\n",
      ">>> filepath = joinpath(full_data,case_test[1]*\".m\")\n",
      "                                           ^\n",
      "\n"
     ]
    }
   ],
   "source": [
    "optimal_value = case_test[2][1]\n",
    "filepath = joinpath(full_data,case_test[1]*\".m\")"
   ]
  },
  {
   "cell_type": "markdown",
   "metadata": {},
   "source": [
    "### Non linear - IPOPT"
   ]
  },
  {
   "cell_type": "code",
   "execution_count": 26,
   "metadata": {
    "ExecuteTime": {
     "end_time": "2021-12-27T16:00:10.819000-03:00",
     "start_time": "2021-12-27T18:59:46.731Z"
    },
    "vscode": {
     "languageId": "julia"
    }
   },
   "outputs": [
    {
     "name": "stdout",
     "output_type": "stream",
     "text": [
      "error: 'filepath' undefined near line 1 column 26\n"
     ]
    }
   ],
   "source": [
    "model_nl = build_problem(filepath,ipopt,NL);"
   ]
  },
  {
   "cell_type": "code",
   "execution_count": 27,
   "metadata": {
    "ExecuteTime": {
     "end_time": "2021-12-27T16:00:14.482000-03:00",
     "start_time": "2021-12-27T18:59:46.733Z"
    },
    "scrolled": true,
    "vscode": {
     "languageId": "julia"
    }
   },
   "outputs": [
    {
     "name": "stdout",
     "output_type": "stream",
     "text": [
      "parse error:\n",
      "\n",
      "  syntax error\n",
      "\n",
      ">>> optimize!(model_nl)\n",
      "            ^\n",
      "\n"
     ]
    }
   ],
   "source": [
    "optimize!(model_nl)"
   ]
  },
  {
   "cell_type": "code",
   "execution_count": 28,
   "metadata": {
    "ExecuteTime": {
     "end_time": "2021-12-27T16:00:14.801000-03:00",
     "start_time": "2021-12-27T18:59:46.736Z"
    },
    "vscode": {
     "languageId": "julia"
    }
   },
   "outputs": [
    {
     "name": "stdout",
     "output_type": "stream",
     "text": [
      "error: 'model_nl' undefined near line 1 column 16\n"
     ]
    }
   ],
   "source": [
    "optimality_gap(model_nl,optimal_value)"
   ]
  },
  {
   "cell_type": "markdown",
   "metadata": {},
   "source": [
    "### McCormick Relaxation - MOSEK"
   ]
  },
  {
   "cell_type": "code",
   "execution_count": 29,
   "metadata": {
    "ExecuteTime": {
     "end_time": "2021-12-27T16:00:19.359000-03:00",
     "start_time": "2021-12-27T18:59:46.739Z"
    },
    "vscode": {
     "languageId": "julia"
    }
   },
   "outputs": [
    {
     "name": "stdout",
     "output_type": "stream",
     "text": [
      "error: 'filepath' undefined near line 1 column 26\n"
     ]
    }
   ],
   "source": [
    "model_mc = build_problem(filepath,mosek,MC);"
   ]
  },
  {
   "cell_type": "code",
   "execution_count": 30,
   "metadata": {
    "ExecuteTime": {
     "end_time": "2021-12-27T16:00:21.829000-03:00",
     "start_time": "2021-12-27T18:59:46.742Z"
    },
    "scrolled": true,
    "vscode": {
     "languageId": "julia"
    }
   },
   "outputs": [
    {
     "name": "stdout",
     "output_type": "stream",
     "text": [
      "parse error:\n",
      "\n",
      "  syntax error\n",
      "\n",
      ">>> optimize!(model_mc)\n",
      "            ^\n",
      "\n"
     ]
    }
   ],
   "source": [
    "optimize!(model_mc)"
   ]
  },
  {
   "cell_type": "code",
   "execution_count": 31,
   "metadata": {
    "ExecuteTime": {
     "end_time": "2021-12-27T16:00:22.060000-03:00",
     "start_time": "2021-12-27T18:59:46.745Z"
    },
    "vscode": {
     "languageId": "julia"
    }
   },
   "outputs": [
    {
     "name": "stdout",
     "output_type": "stream",
     "text": [
      "error: 'model_mc' undefined near line 1 column 22\n"
     ]
    }
   ],
   "source": [
    "optimality_gap_mosek(model_mc,optimal_value,filepath)"
   ]
  },
  {
   "cell_type": "markdown",
   "metadata": {},
   "source": [
    "### Semidefinite Relaxation - MOSEK"
   ]
  },
  {
   "cell_type": "code",
   "execution_count": 32,
   "metadata": {
    "ExecuteTime": {
     "end_time": "2021-12-27T16:00:22.489000-03:00",
     "start_time": "2021-12-27T18:59:46.748Z"
    },
    "vscode": {
     "languageId": "julia"
    }
   },
   "outputs": [
    {
     "name": "stdout",
     "output_type": "stream",
     "text": [
      "error: 'filepath' undefined near line 1 column 27\n"
     ]
    }
   ],
   "source": [
    "model_sdp = build_problem(filepath,mosek,SDP);"
   ]
  },
  {
   "cell_type": "code",
   "execution_count": 33,
   "metadata": {
    "ExecuteTime": {
     "end_time": "2021-12-27T16:00:23.642000-03:00",
     "start_time": "2021-12-27T18:59:46.750Z"
    },
    "scrolled": true,
    "vscode": {
     "languageId": "julia"
    }
   },
   "outputs": [
    {
     "name": "stdout",
     "output_type": "stream",
     "text": [
      "parse error:\n",
      "\n",
      "  syntax error\n",
      "\n",
      ">>> optimize!(model_sdp)\n",
      "            ^\n",
      "\n"
     ]
    }
   ],
   "source": [
    "optimize!(model_sdp)"
   ]
  },
  {
   "cell_type": "code",
   "execution_count": 34,
   "metadata": {
    "ExecuteTime": {
     "end_time": "2021-12-27T16:00:23.649000-03:00",
     "start_time": "2021-12-27T18:59:46.753Z"
    },
    "vscode": {
     "languageId": "julia"
    }
   },
   "outputs": [
    {
     "name": "stdout",
     "output_type": "stream",
     "text": [
      "error: 'model_sdp' undefined near line 1 column 22\n"
     ]
    }
   ],
   "source": [
    "optimality_gap_mosek(model_sdp,optimal_value,filepath)"
   ]
  },
  {
   "cell_type": "markdown",
   "metadata": {},
   "source": [
    "### Second Order Cone Relaxation - MOSEK"
   ]
  },
  {
   "cell_type": "code",
   "execution_count": 35,
   "metadata": {
    "ExecuteTime": {
     "end_time": "2021-12-27T16:00:24.066000-03:00",
     "start_time": "2021-12-27T18:59:46.757Z"
    },
    "vscode": {
     "languageId": "julia"
    }
   },
   "outputs": [
    {
     "name": "stdout",
     "output_type": "stream",
     "text": [
      "error: 'filepath' undefined near line 1 column 28\n"
     ]
    }
   ],
   "source": [
    "model_socp = build_problem(filepath,mosek,SOCP);"
   ]
  },
  {
   "cell_type": "code",
   "execution_count": 36,
   "metadata": {
    "ExecuteTime": {
     "end_time": "2021-12-27T16:00:24.937000-03:00",
     "start_time": "2021-12-27T18:59:46.761Z"
    },
    "scrolled": true,
    "vscode": {
     "languageId": "julia"
    }
   },
   "outputs": [
    {
     "name": "stdout",
     "output_type": "stream",
     "text": [
      "parse error:\n",
      "\n",
      "  syntax error\n",
      "\n",
      ">>> optimize!(model_socp)\n",
      "            ^\n",
      "\n"
     ]
    }
   ],
   "source": [
    "optimize!(model_socp)"
   ]
  },
  {
   "cell_type": "code",
   "execution_count": 37,
   "metadata": {
    "ExecuteTime": {
     "end_time": "2021-12-27T16:00:24.939000-03:00",
     "start_time": "2021-12-27T18:59:46.763Z"
    },
    "vscode": {
     "languageId": "julia"
    }
   },
   "outputs": [
    {
     "name": "stdout",
     "output_type": "stream",
     "text": [
      "error: 'model_socp' undefined near line 1 column 22\n"
     ]
    }
   ],
   "source": [
    "optimality_gap_mosek(model_socp,optimal_value,filepath)"
   ]
  },
  {
   "cell_type": "markdown",
   "metadata": {},
   "source": [
    "### Results"
   ]
  },
  {
   "cell_type": "code",
   "execution_count": 38,
   "metadata": {
    "ExecuteTime": {
     "end_time": "2021-12-27T16:00:24.952000-03:00",
     "start_time": "2021-12-27T18:59:46.767Z"
    },
    "vscode": {
     "languageId": "julia"
    }
   },
   "outputs": [
    {
     "name": "stdout",
     "output_type": "stream",
     "text": [
      "error: 'model_nl' undefined near line 1 column 11\n"
     ]
    }
   ],
   "source": [
    "models = [model_nl,model_mc,model_sdp,model_socp];"
   ]
  },
  {
   "cell_type": "code",
   "execution_count": 39,
   "metadata": {
    "ExecuteTime": {
     "end_time": "2021-12-27T16:00:25.036000-03:00",
     "start_time": "2021-12-27T18:59:46.769Z"
    },
    "code_folding": [],
    "vscode": {
     "languageId": "julia"
    }
   },
   "outputs": [
    {
     "name": "stdout",
     "output_type": "stream",
     "text": [
      "parse error:\n",
      "\n",
      "  syntax error\n",
      "\n",
      ">>>     vars = [value.(model[Symbol(variable)]) for model in models]\n",
      "                            ^\n",
      "\n",
      "parse error:\n",
      "\n",
      "  syntax error\n",
      "\n",
      ">>>     var_length = length(vars[1])\n",
      "                                ^\n",
      "\n",
      "models_type = NLMCSDPSOCP\n",
      "width =  0.15000\n",
      "parse error:\n",
      "\n",
      "  syntax error\n",
      "\n",
      ">>>     G_labels = [\"G\"*string(i) for i = 1:var_length]\n",
      "                                     ^\n",
      "\n",
      "error: 'var_length' undefined near line 1 column 12\n",
      "parse error:\n",
      "\n",
      "  syntax error\n",
      "\n",
      ">>>     for (i,var) in enumerate(vars)\n",
      "              ^\n",
      "\n",
      "parse error:\n",
      "\n",
      "  syntax error\n",
      "\n",
      ">>>         ax.bar(xs.+(i-2.5)*width,var,width,label = models_type[i])\n",
      "                                                                  ^\n",
      "\n",
      "parse error:\n",
      "\n",
      "  syntax error\n",
      "\n",
      ">>>     end\n",
      "          ^\n",
      "\n",
      "error: 'ax' undefined near line 1 column 5\n",
      "error: 'ax' undefined near line 1 column 5\n",
      "error: 'ax' undefined near line 1 column 5\n",
      "error: 'ax' undefined near line 1 column 5\n",
      "error: 'ax' undefined near line 1 column 5\n",
      "parse error:\n",
      "\n",
      "  syntax error\n",
      "\n",
      ">>>     return fig\n",
      "                 ^\n",
      "\n",
      "parse error:\n",
      "\n",
      "  syntax error\n",
      "\n",
      ">>> end\n",
      "      ^\n",
      "\n"
     ]
    }
   ],
   "source": [
    "function plot_var(models,variable,title,y_label)\n",
    "    fig = figure(1)\n",
    "    ax = fig.add_subplot(1,1,1)\n",
    "    vars = [value.(model[Symbol(variable)]) for model in models]\n",
    "    var_length = length(vars[1])\n",
    "    models_type = [\"NL\",\"MC\",\"SDP\",\"SOCP\"]\n",
    "    width = 0.15\n",
    "    G_labels = [\"G\"*string(i) for i = 1:var_length]\n",
    "    xs = 1:var_length\n",
    "    for (i,var) in enumerate(vars)\n",
    "        ax.bar(xs.+(i-2.5)*width,var,width,label = models_type[i])\n",
    "    end\n",
    "    ax.set_title(title)\n",
    "    ax.set_ylabel(y_label)\n",
    "    ax.set_xticks(xs)\n",
    "    ax.set_xticklabels(G_labels)\n",
    "    ax.legend()\n",
    "    return fig\n",
    "end"
   ]
  },
  {
   "cell_type": "code",
   "execution_count": 40,
   "metadata": {
    "ExecuteTime": {
     "end_time": "2021-12-27T16:00:28.147000-03:00",
     "start_time": "2021-12-27T18:59:46.776Z"
    },
    "vscode": {
     "languageId": "julia"
    }
   },
   "outputs": [
    {
     "name": "stdout",
     "output_type": "stream",
     "text": [
      "error: 'models' undefined near line 1 column 10\n"
     ]
    }
   ],
   "source": [
    "plot_var(models,\"p_g\",\"Active Generation\",\"Generation (MW)\");"
   ]
  },
  {
   "cell_type": "code",
   "execution_count": 41,
   "metadata": {
    "ExecuteTime": {
     "end_time": "2021-12-27T16:00:28.263000-03:00",
     "start_time": "2021-12-27T18:59:46.781Z"
    },
    "vscode": {
     "languageId": "julia"
    }
   },
   "outputs": [
    {
     "name": "stdout",
     "output_type": "stream",
     "text": [
      "error: 'models' undefined near line 1 column 10\n"
     ]
    }
   ],
   "source": [
    "plot_var(models,\"q_g\",\"Reactive Generation\",\"Generation (MW)\");"
   ]
  },
  {
   "cell_type": "markdown",
   "metadata": {},
   "source": [
    "## 39 buses"
   ]
  },
  {
   "cell_type": "markdown",
   "metadata": {},
   "source": [
    "$|\\mathcal{B}| = 39 $\n",
    "\n",
    "$|\\mathcal{L}| = 46 $\n",
    "\n",
    "$|\\mathcal{G}| = 10 $"
   ]
  },
  {
   "cell_type": "code",
   "execution_count": 42,
   "metadata": {
    "ExecuteTime": {
     "end_time": "2021-12-27T16:00:28.265000-03:00",
     "start_time": "2021-12-27T18:59:46.785Z"
    },
    "vscode": {
     "languageId": "julia"
    }
   },
   "outputs": [
    {
     "name": "stdout",
     "output_type": "stream",
     "text": [
      "parse error:\n",
      "\n",
      "  syntax error\n",
      "\n",
      ">>> case_test = case_tests[7]\n",
      "                          ^\n",
      "\n"
     ]
    }
   ],
   "source": [
    "case_test = case_tests[7]"
   ]
  },
  {
   "cell_type": "code",
   "execution_count": 43,
   "metadata": {
    "ExecuteTime": {
     "end_time": "2021-12-27T16:00:28.266000-03:00",
     "start_time": "2021-12-27T18:59:46.789Z"
    },
    "vscode": {
     "languageId": "julia"
    }
   },
   "outputs": [
    {
     "name": "stdout",
     "output_type": "stream",
     "text": [
      "parse error:\n",
      "\n",
      "  syntax error\n",
      "\n",
      ">>> filepath = joinpath(full_data,case_test[1]*\".m\")\n",
      "                                           ^\n",
      "\n",
      "parse error:\n",
      "\n",
      "  syntax error\n",
      "\n",
      ">>> optimal_value = case_test[2][1]\n",
      "                             ^\n",
      "\n"
     ]
    }
   ],
   "source": [
    "filepath = joinpath(full_data,case_test[1]*\".m\")\n",
    "optimal_value = case_test[2][1]"
   ]
  },
  {
   "cell_type": "markdown",
   "metadata": {},
   "source": [
    "### Non linear - IPOPT"
   ]
  },
  {
   "cell_type": "code",
   "execution_count": 44,
   "metadata": {
    "ExecuteTime": {
     "end_time": "2021-12-27T16:00:28.277000-03:00",
     "start_time": "2021-12-27T18:59:46.796Z"
    },
    "vscode": {
     "languageId": "julia"
    }
   },
   "outputs": [
    {
     "name": "stdout",
     "output_type": "stream",
     "text": [
      "error: 'filepath' undefined near line 1 column 26\n"
     ]
    }
   ],
   "source": [
    "model_nl = build_problem(filepath,ipopt,NL);"
   ]
  },
  {
   "cell_type": "code",
   "execution_count": 45,
   "metadata": {
    "ExecuteTime": {
     "end_time": "2021-12-27T16:00:28.378000-03:00",
     "start_time": "2021-12-27T18:59:46.799Z"
    },
    "scrolled": true,
    "vscode": {
     "languageId": "julia"
    }
   },
   "outputs": [
    {
     "name": "stdout",
     "output_type": "stream",
     "text": [
      "parse error:\n",
      "\n",
      "  syntax error\n",
      "\n",
      ">>> optimize!(model_nl)\n",
      "            ^\n",
      "\n"
     ]
    }
   ],
   "source": [
    "optimize!(model_nl)"
   ]
  },
  {
   "cell_type": "code",
   "execution_count": 46,
   "metadata": {
    "ExecuteTime": {
     "end_time": "2021-12-27T16:00:28.379000-03:00",
     "start_time": "2021-12-27T18:59:46.801Z"
    },
    "vscode": {
     "languageId": "julia"
    }
   },
   "outputs": [
    {
     "name": "stdout",
     "output_type": "stream",
     "text": [
      "error: 'model_nl' undefined near line 1 column 16\n"
     ]
    }
   ],
   "source": [
    "optimality_gap(model_nl,optimal_value)"
   ]
  },
  {
   "cell_type": "markdown",
   "metadata": {},
   "source": [
    "### McCormick Relaxation - MOSEK"
   ]
  },
  {
   "cell_type": "code",
   "execution_count": 47,
   "metadata": {
    "ExecuteTime": {
     "end_time": "2021-12-27T16:00:28.387000-03:00",
     "start_time": "2021-12-27T18:59:46.804Z"
    },
    "vscode": {
     "languageId": "julia"
    }
   },
   "outputs": [
    {
     "name": "stdout",
     "output_type": "stream",
     "text": [
      "error: 'filepath' undefined near line 1 column 26\n"
     ]
    }
   ],
   "source": [
    "model_mc = build_problem(filepath,mosek,MC);"
   ]
  },
  {
   "cell_type": "code",
   "execution_count": 48,
   "metadata": {
    "ExecuteTime": {
     "end_time": "2021-12-27T16:00:28.538000-03:00",
     "start_time": "2021-12-27T18:59:46.807Z"
    },
    "scrolled": true,
    "vscode": {
     "languageId": "julia"
    }
   },
   "outputs": [
    {
     "name": "stdout",
     "output_type": "stream",
     "text": [
      "parse error:\n",
      "\n",
      "  syntax error\n",
      "\n",
      ">>> optimize!(model_mc)\n",
      "            ^\n",
      "\n"
     ]
    }
   ],
   "source": [
    "optimize!(model_mc)"
   ]
  },
  {
   "cell_type": "code",
   "execution_count": 49,
   "metadata": {
    "ExecuteTime": {
     "end_time": "2021-12-27T16:00:28.541000-03:00",
     "start_time": "2021-12-27T18:59:46.809Z"
    },
    "vscode": {
     "languageId": "julia"
    }
   },
   "outputs": [
    {
     "name": "stdout",
     "output_type": "stream",
     "text": [
      "error: 'model_mc' undefined near line 1 column 22\n"
     ]
    }
   ],
   "source": [
    "optimality_gap_mosek(model_mc,optimal_value,filepath)"
   ]
  },
  {
   "cell_type": "markdown",
   "metadata": {},
   "source": [
    "### Semidefinite Relaxation - MOSEK"
   ]
  },
  {
   "cell_type": "code",
   "execution_count": 50,
   "metadata": {
    "ExecuteTime": {
     "end_time": "2021-12-27T16:00:28.549000-03:00",
     "start_time": "2021-12-27T18:59:46.812Z"
    },
    "vscode": {
     "languageId": "julia"
    }
   },
   "outputs": [
    {
     "name": "stdout",
     "output_type": "stream",
     "text": [
      "error: 'filepath' undefined near line 1 column 27\n"
     ]
    }
   ],
   "source": [
    "model_sdp = build_problem(filepath,mosek,SDP);"
   ]
  },
  {
   "cell_type": "code",
   "execution_count": 51,
   "metadata": {
    "ExecuteTime": {
     "end_time": "2021-12-27T16:00:28.883000-03:00",
     "start_time": "2021-12-27T18:59:46.815Z"
    },
    "scrolled": true,
    "vscode": {
     "languageId": "julia"
    }
   },
   "outputs": [
    {
     "name": "stdout",
     "output_type": "stream",
     "text": [
      "parse error:\n",
      "\n",
      "  syntax error\n",
      "\n",
      ">>> optimize!(model_sdp)\n",
      "            ^\n",
      "\n"
     ]
    }
   ],
   "source": [
    "optimize!(model_sdp)"
   ]
  },
  {
   "cell_type": "code",
   "execution_count": 52,
   "metadata": {
    "ExecuteTime": {
     "end_time": "2021-12-27T16:00:28.885000-03:00",
     "start_time": "2021-12-27T18:59:46.818Z"
    },
    "vscode": {
     "languageId": "julia"
    }
   },
   "outputs": [
    {
     "name": "stdout",
     "output_type": "stream",
     "text": [
      "error: 'model_sdp' undefined near line 1 column 22\n"
     ]
    }
   ],
   "source": [
    "optimality_gap_mosek(model_sdp,optimal_value,filepath)"
   ]
  },
  {
   "cell_type": "markdown",
   "metadata": {},
   "source": [
    "### Second Order Cone Relaxation - MOSEK"
   ]
  },
  {
   "cell_type": "code",
   "execution_count": 53,
   "metadata": {
    "ExecuteTime": {
     "end_time": "2021-12-27T16:00:28.893000-03:00",
     "start_time": "2021-12-27T18:59:46.821Z"
    },
    "vscode": {
     "languageId": "julia"
    }
   },
   "outputs": [
    {
     "name": "stdout",
     "output_type": "stream",
     "text": [
      "error: 'filepath' undefined near line 1 column 28\n"
     ]
    }
   ],
   "source": [
    "model_socp = build_problem(filepath,mosek,SOCP);"
   ]
  },
  {
   "cell_type": "code",
   "execution_count": 54,
   "metadata": {
    "ExecuteTime": {
     "end_time": "2021-12-27T16:00:29.021000-03:00",
     "start_time": "2021-12-27T18:59:46.823Z"
    },
    "scrolled": true,
    "vscode": {
     "languageId": "julia"
    }
   },
   "outputs": [
    {
     "name": "stdout",
     "output_type": "stream",
     "text": [
      "parse error:\n",
      "\n",
      "  syntax error\n",
      "\n",
      ">>> optimize!(model_socp)\n",
      "            ^\n",
      "\n"
     ]
    }
   ],
   "source": [
    "optimize!(model_socp)"
   ]
  },
  {
   "cell_type": "code",
   "execution_count": 55,
   "metadata": {
    "ExecuteTime": {
     "end_time": "2021-12-27T16:00:29.026000-03:00",
     "start_time": "2021-12-27T18:59:46.826Z"
    },
    "vscode": {
     "languageId": "julia"
    }
   },
   "outputs": [
    {
     "name": "stdout",
     "output_type": "stream",
     "text": [
      "error: 'model_socp' undefined near line 1 column 22\n"
     ]
    }
   ],
   "source": [
    "optimality_gap_mosek(model_socp,optimal_value,filepath)"
   ]
  },
  {
   "cell_type": "markdown",
   "metadata": {},
   "source": [
    "### Results"
   ]
  },
  {
   "cell_type": "code",
   "execution_count": 56,
   "metadata": {
    "ExecuteTime": {
     "end_time": "2021-12-27T16:00:29.028000-03:00",
     "start_time": "2021-12-27T18:59:46.829Z"
    },
    "vscode": {
     "languageId": "julia"
    }
   },
   "outputs": [
    {
     "name": "stdout",
     "output_type": "stream",
     "text": [
      "error: 'model_nl' undefined near line 1 column 11\n"
     ]
    }
   ],
   "source": [
    "models = [model_nl,model_mc,model_sdp,model_socp];"
   ]
  },
  {
   "cell_type": "code",
   "execution_count": 57,
   "metadata": {
    "ExecuteTime": {
     "end_time": "2021-12-27T16:00:29.235000-03:00",
     "start_time": "2021-12-27T18:59:46.831Z"
    },
    "vscode": {
     "languageId": "julia"
    }
   },
   "outputs": [
    {
     "name": "stdout",
     "output_type": "stream",
     "text": [
      "error: 'models' undefined near line 1 column 10\n"
     ]
    }
   ],
   "source": [
    "plot_var(models,\"p_g\",\"Active Generation\",\"Generation (MW)\");"
   ]
  },
  {
   "cell_type": "code",
   "execution_count": 58,
   "metadata": {
    "ExecuteTime": {
     "end_time": "2021-12-27T16:00:29.390000-03:00",
     "start_time": "2021-12-27T18:59:46.834Z"
    },
    "scrolled": false,
    "vscode": {
     "languageId": "julia"
    }
   },
   "outputs": [
    {
     "name": "stdout",
     "output_type": "stream",
     "text": [
      "error: 'models' undefined near line 1 column 10\n"
     ]
    }
   ],
   "source": [
    "plot_var(models,\"q_g\",\"Reactive Generation\",\"Generation (MW)\");"
   ]
  },
  {
   "cell_type": "markdown",
   "metadata": {},
   "source": [
    "## 162 buses"
   ]
  },
  {
   "cell_type": "markdown",
   "metadata": {},
   "source": [
    "$|\\mathcal{B}| = 162 $\n",
    "\n",
    "$|\\mathcal{L}| = 284 $\n",
    "\n",
    "$|\\mathcal{G}| = 12 $"
   ]
  },
  {
   "cell_type": "code",
   "execution_count": 59,
   "metadata": {
    "ExecuteTime": {
     "end_time": "2021-12-27T16:00:29.392000-03:00",
     "start_time": "2021-12-27T18:59:46.838Z"
    },
    "vscode": {
     "languageId": "julia"
    }
   },
   "outputs": [
    {
     "name": "stdout",
     "output_type": "stream",
     "text": [
      "parse error:\n",
      "\n",
      "  syntax error\n",
      "\n",
      ">>> case_test = case_tests[12]\n",
      "                          ^\n",
      "\n"
     ]
    }
   ],
   "source": [
    "case_test = case_tests[12]"
   ]
  },
  {
   "cell_type": "code",
   "execution_count": 60,
   "metadata": {
    "ExecuteTime": {
     "end_time": "2021-12-27T16:00:29.393000-03:00",
     "start_time": "2021-12-27T18:59:46.841Z"
    },
    "vscode": {
     "languageId": "julia"
    }
   },
   "outputs": [
    {
     "name": "stdout",
     "output_type": "stream",
     "text": [
      "parse error:\n",
      "\n",
      "  syntax error\n",
      "\n",
      ">>> filepath = joinpath(full_data,case_test[1]*\".m\")\n",
      "                                           ^\n",
      "\n",
      "parse error:\n",
      "\n",
      "  syntax error\n",
      "\n",
      ">>> optimal_value = case_test[2][1]\n",
      "                             ^\n",
      "\n"
     ]
    }
   ],
   "source": [
    "filepath = joinpath(full_data,case_test[1]*\".m\")\n",
    "optimal_value = case_test[2][1]"
   ]
  },
  {
   "cell_type": "markdown",
   "metadata": {},
   "source": [
    "### Non linear - IPOPT"
   ]
  },
  {
   "cell_type": "code",
   "execution_count": 61,
   "metadata": {
    "ExecuteTime": {
     "end_time": "2021-12-27T16:00:29.464000-03:00",
     "start_time": "2021-12-27T18:59:46.844Z"
    },
    "vscode": {
     "languageId": "julia"
    }
   },
   "outputs": [
    {
     "name": "stdout",
     "output_type": "stream",
     "text": [
      "error: 'filepath' undefined near line 1 column 26\n"
     ]
    }
   ],
   "source": [
    "model_nl = build_problem(filepath,ipopt,NL);"
   ]
  },
  {
   "cell_type": "code",
   "execution_count": 62,
   "metadata": {
    "ExecuteTime": {
     "end_time": "2021-12-27T16:00:31.087000-03:00",
     "start_time": "2021-12-27T18:59:46.846Z"
    },
    "scrolled": true,
    "vscode": {
     "languageId": "julia"
    }
   },
   "outputs": [
    {
     "name": "stdout",
     "output_type": "stream",
     "text": [
      "parse error:\n",
      "\n",
      "  syntax error\n",
      "\n",
      ">>> optimize!(model_nl)\n",
      "            ^\n",
      "\n"
     ]
    }
   ],
   "source": [
    "optimize!(model_nl)"
   ]
  },
  {
   "cell_type": "code",
   "execution_count": 63,
   "metadata": {
    "ExecuteTime": {
     "end_time": "2021-12-27T16:00:31.088000-03:00",
     "start_time": "2021-12-27T18:59:46.848Z"
    },
    "vscode": {
     "languageId": "julia"
    }
   },
   "outputs": [
    {
     "name": "stdout",
     "output_type": "stream",
     "text": [
      "error: 'model_nl' undefined near line 1 column 16\n"
     ]
    }
   ],
   "source": [
    "optimality_gap(model_nl,optimal_value)"
   ]
  },
  {
   "cell_type": "markdown",
   "metadata": {},
   "source": [
    "### McCormick Relaxation - MOSEK"
   ]
  },
  {
   "cell_type": "code",
   "execution_count": 64,
   "metadata": {
    "ExecuteTime": {
     "end_time": "2021-12-27T16:00:31.196000-03:00",
     "start_time": "2021-12-27T18:59:46.851Z"
    },
    "vscode": {
     "languageId": "julia"
    }
   },
   "outputs": [
    {
     "name": "stdout",
     "output_type": "stream",
     "text": [
      "error: 'filepath' undefined near line 1 column 26\n"
     ]
    }
   ],
   "source": [
    "model_mc = build_problem(filepath,mosek,MC);"
   ]
  },
  {
   "cell_type": "code",
   "execution_count": 65,
   "metadata": {
    "ExecuteTime": {
     "end_time": "2021-12-27T16:00:31.674000-03:00",
     "start_time": "2021-12-27T18:59:46.853Z"
    },
    "scrolled": true,
    "vscode": {
     "languageId": "julia"
    }
   },
   "outputs": [
    {
     "name": "stdout",
     "output_type": "stream",
     "text": [
      "parse error:\n",
      "\n",
      "  syntax error\n",
      "\n",
      ">>> optimize!(model_mc)\n",
      "            ^\n",
      "\n"
     ]
    }
   ],
   "source": [
    "optimize!(model_mc)"
   ]
  },
  {
   "cell_type": "code",
   "execution_count": 66,
   "metadata": {
    "ExecuteTime": {
     "end_time": "2021-12-27T16:00:31.681000-03:00",
     "start_time": "2021-12-27T18:59:46.855Z"
    },
    "vscode": {
     "languageId": "julia"
    }
   },
   "outputs": [
    {
     "name": "stdout",
     "output_type": "stream",
     "text": [
      "error: 'model_mc' undefined near line 1 column 22\n"
     ]
    }
   ],
   "source": [
    "optimality_gap_mosek(model_mc,optimal_value,filepath)"
   ]
  },
  {
   "cell_type": "markdown",
   "metadata": {},
   "source": [
    "### Semidefinite Relaxation - MOSEK"
   ]
  },
  {
   "cell_type": "code",
   "execution_count": 67,
   "metadata": {
    "ExecuteTime": {
     "end_time": "2021-12-27T16:00:31.795000-03:00",
     "start_time": "2021-12-27T18:59:46.858Z"
    },
    "vscode": {
     "languageId": "julia"
    }
   },
   "outputs": [
    {
     "name": "stdout",
     "output_type": "stream",
     "text": [
      "error: 'filepath' undefined near line 1 column 27\n"
     ]
    }
   ],
   "source": [
    "model_sdp = build_problem(filepath,mosek,SDP);"
   ]
  },
  {
   "cell_type": "code",
   "execution_count": 68,
   "metadata": {
    "ExecuteTime": {
     "end_time": "2021-12-27T16:00:41.332000-03:00",
     "start_time": "2021-12-27T18:59:46.860Z"
    },
    "scrolled": true,
    "vscode": {
     "languageId": "julia"
    }
   },
   "outputs": [
    {
     "name": "stdout",
     "output_type": "stream",
     "text": [
      "parse error:\n",
      "\n",
      "  syntax error\n",
      "\n",
      ">>> optimize!(model_sdp)\n",
      "            ^\n",
      "\n"
     ]
    }
   ],
   "source": [
    "optimize!(model_sdp)"
   ]
  },
  {
   "cell_type": "code",
   "execution_count": 69,
   "metadata": {
    "ExecuteTime": {
     "end_time": "2021-12-27T16:00:41.339000-03:00",
     "start_time": "2021-12-27T18:59:46.863Z"
    },
    "vscode": {
     "languageId": "julia"
    }
   },
   "outputs": [
    {
     "name": "stdout",
     "output_type": "stream",
     "text": [
      "error: 'model_sdp' undefined near line 1 column 22\n"
     ]
    }
   ],
   "source": [
    "optimality_gap_mosek(model_sdp,optimal_value,filepath)"
   ]
  },
  {
   "cell_type": "markdown",
   "metadata": {},
   "source": [
    "### Second Order Cone Relaxation - MOSEK"
   ]
  },
  {
   "cell_type": "code",
   "execution_count": 70,
   "metadata": {
    "ExecuteTime": {
     "end_time": "2021-12-27T16:00:41.560000-03:00",
     "start_time": "2021-12-27T18:59:46.865Z"
    },
    "vscode": {
     "languageId": "julia"
    }
   },
   "outputs": [
    {
     "name": "stdout",
     "output_type": "stream",
     "text": [
      "error: 'filepath' undefined near line 1 column 28\n"
     ]
    }
   ],
   "source": [
    "model_socp = build_problem(filepath,mosek,SOCP);"
   ]
  },
  {
   "cell_type": "code",
   "execution_count": 71,
   "metadata": {
    "ExecuteTime": {
     "end_time": "2021-12-27T16:00:42.104000-03:00",
     "start_time": "2021-12-27T18:59:46.868Z"
    },
    "vscode": {
     "languageId": "julia"
    }
   },
   "outputs": [
    {
     "name": "stdout",
     "output_type": "stream",
     "text": [
      "parse error:\n",
      "\n",
      "  syntax error\n",
      "\n",
      ">>> optimize!(model_socp)\n",
      "            ^\n",
      "\n"
     ]
    }
   ],
   "source": [
    "optimize!(model_socp)"
   ]
  },
  {
   "cell_type": "code",
   "execution_count": 72,
   "metadata": {
    "ExecuteTime": {
     "end_time": "2021-12-27T16:00:42.110000-03:00",
     "start_time": "2021-12-27T18:59:46.872Z"
    },
    "vscode": {
     "languageId": "julia"
    }
   },
   "outputs": [
    {
     "name": "stdout",
     "output_type": "stream",
     "text": [
      "error: 'model_socp' undefined near line 1 column 22\n"
     ]
    }
   ],
   "source": [
    "optimality_gap_mosek(model_socp,optimal_value,filepath)"
   ]
  },
  {
   "cell_type": "markdown",
   "metadata": {},
   "source": [
    "### Results"
   ]
  },
  {
   "cell_type": "code",
   "execution_count": 73,
   "metadata": {
    "ExecuteTime": {
     "end_time": "2021-12-27T16:00:42.111000-03:00",
     "start_time": "2021-12-27T18:59:46.875Z"
    },
    "vscode": {
     "languageId": "julia"
    }
   },
   "outputs": [
    {
     "name": "stdout",
     "output_type": "stream",
     "text": [
      "error: 'model_nl' undefined near line 1 column 11\n"
     ]
    }
   ],
   "source": [
    "models = [model_nl,model_mc,model_sdp,model_socp];"
   ]
  },
  {
   "cell_type": "code",
   "execution_count": 74,
   "metadata": {
    "ExecuteTime": {
     "end_time": "2021-12-27T16:00:42.333000-03:00",
     "start_time": "2021-12-27T18:59:46.877Z"
    },
    "vscode": {
     "languageId": "julia"
    }
   },
   "outputs": [
    {
     "name": "stdout",
     "output_type": "stream",
     "text": [
      "error: 'models' undefined near line 1 column 10\n"
     ]
    }
   ],
   "source": [
    "plot_var(models,\"p_g\",\"Active Generation\",\"Generation (MW)\");"
   ]
  },
  {
   "cell_type": "code",
   "execution_count": 75,
   "metadata": {
    "ExecuteTime": {
     "end_time": "2021-12-27T16:00:42.505000-03:00",
     "start_time": "2021-12-27T18:59:46.880Z"
    },
    "scrolled": false,
    "vscode": {
     "languageId": "julia"
    }
   },
   "outputs": [
    {
     "name": "stdout",
     "output_type": "stream",
     "text": [
      "error: 'models' undefined near line 1 column 10\n"
     ]
    }
   ],
   "source": [
    "plot_var(models,\"q_g\",\"Reactive Generation\",\"Generation (MW)\");"
   ]
  },
  {
   "cell_type": "markdown",
   "metadata": {},
   "source": [
    "# Benchmark Table"
   ]
  },
  {
   "cell_type": "markdown",
   "metadata": {},
   "source": [
    "## $|\\mathcal{B}| \\leq 500 $"
   ]
  },
  {
   "cell_type": "code",
   "execution_count": 76,
   "metadata": {
    "ExecuteTime": {
     "end_time": "2021-12-27T16:00:42.550000-03:00",
     "start_time": "2021-12-27T18:59:46.883Z"
    },
    "vscode": {
     "languageId": "julia"
    }
   },
   "outputs": [
    {
     "name": "stdout",
     "output_type": "stream",
     "text": [
      "parse error:\n",
      "\n",
      "  syntax error\n",
      "\n",
      ">>> tests = case_tests[1:17];\n",
      "                      ^\n",
      "\n"
     ]
    }
   ],
   "source": [
    "tests = case_tests[1:17];"
   ]
  },
  {
   "cell_type": "markdown",
   "metadata": {},
   "source": [
    "### Typical Operating Conditions"
   ]
  },
  {
   "cell_type": "code",
   "execution_count": 77,
   "metadata": {
    "ExecuteTime": {
     "end_time": "2021-12-27T16:05:01.541000-03:00",
     "start_time": "2021-12-27T18:59:46.886Z"
    },
    "scrolled": true,
    "vscode": {
     "languageId": "julia"
    }
   },
   "outputs": [
    {
     "name": "stdout",
     "output_type": "stream",
     "text": [
      "error: 'tests' undefined near line 1 column 19\n"
     ]
    }
   ],
   "source": [
    "cases = benchmark(tests);"
   ]
  },
  {
   "cell_type": "code",
   "execution_count": 78,
   "metadata": {
    "ExecuteTime": {
     "end_time": "2021-12-27T16:05:02.140000-03:00",
     "start_time": "2021-12-27T18:59:46.888Z"
    },
    "vscode": {
     "languageId": "julia"
    }
   },
   "outputs": [
    {
     "name": "stdout",
     "output_type": "stream",
     "text": [
      "error: 'cases' undefined near line 1 column 19\n"
     ]
    }
   ],
   "source": [
    "print_cases_table(cases)"
   ]
  },
  {
   "cell_type": "code",
   "execution_count": 79,
   "metadata": {
    "ExecuteTime": {
     "end_time": "2021-12-27T16:05:02.960000-03:00",
     "start_time": "2021-12-27T18:59:46.891Z"
    },
    "vscode": {
     "languageId": "julia"
    }
   },
   "outputs": [
    {
     "name": "stdout",
     "output_type": "stream",
     "text": [
      "error: 'cases' undefined near line 1 column 18\n"
     ]
    }
   ],
   "source": [
    "graph_dispersion(cases)"
   ]
  },
  {
   "cell_type": "markdown",
   "metadata": {},
   "source": [
    "### Congested Operating Conditions"
   ]
  },
  {
   "cell_type": "code",
   "execution_count": 80,
   "metadata": {
    "ExecuteTime": {
     "end_time": "2021-12-27T16:08:36.759000-03:00",
     "start_time": "2021-12-27T18:59:46.894Z"
    },
    "scrolled": true,
    "vscode": {
     "languageId": "julia"
    }
   },
   "outputs": [
    {
     "name": "stdout",
     "output_type": "stream",
     "text": [
      "error: 'tests' undefined near line 1 column 19\n"
     ]
    }
   ],
   "source": [
    "cases = benchmark(tests,API);"
   ]
  },
  {
   "cell_type": "code",
   "execution_count": 81,
   "metadata": {
    "ExecuteTime": {
     "end_time": "2021-12-27T16:08:36.814000-03:00",
     "start_time": "2021-12-27T18:59:46.897Z"
    },
    "vscode": {
     "languageId": "julia"
    }
   },
   "outputs": [
    {
     "name": "stdout",
     "output_type": "stream",
     "text": [
      "error: 'cases' undefined near line 1 column 19\n"
     ]
    }
   ],
   "source": [
    "print_cases_table(cases)"
   ]
  },
  {
   "cell_type": "code",
   "execution_count": 82,
   "metadata": {
    "ExecuteTime": {
     "end_time": "2021-12-27T16:08:37.320000-03:00",
     "start_time": "2021-12-27T18:59:46.899Z"
    },
    "vscode": {
     "languageId": "julia"
    }
   },
   "outputs": [
    {
     "name": "stdout",
     "output_type": "stream",
     "text": [
      "error: 'cases' undefined near line 1 column 18\n"
     ]
    }
   ],
   "source": [
    "graph_dispersion(cases)"
   ]
  },
  {
   "cell_type": "markdown",
   "metadata": {},
   "source": [
    "### Small Angle Difference Conditions"
   ]
  },
  {
   "cell_type": "code",
   "execution_count": 83,
   "metadata": {
    "ExecuteTime": {
     "end_time": "2021-12-27T16:12:39.123000-03:00",
     "start_time": "2021-12-27T18:59:46.903Z"
    },
    "scrolled": true,
    "vscode": {
     "languageId": "julia"
    }
   },
   "outputs": [
    {
     "name": "stdout",
     "output_type": "stream",
     "text": [
      "error: 'tests' undefined near line 1 column 19\n"
     ]
    }
   ],
   "source": [
    "cases = benchmark(tests,SAD);"
   ]
  },
  {
   "cell_type": "code",
   "execution_count": 84,
   "metadata": {
    "ExecuteTime": {
     "end_time": "2021-12-27T16:12:39.126000-03:00",
     "start_time": "2021-12-27T18:59:46.907Z"
    },
    "scrolled": false,
    "vscode": {
     "languageId": "julia"
    }
   },
   "outputs": [
    {
     "name": "stdout",
     "output_type": "stream",
     "text": [
      "error: 'cases' undefined near line 1 column 19\n"
     ]
    }
   ],
   "source": [
    "print_cases_table(cases)"
   ]
  },
  {
   "cell_type": "code",
   "execution_count": 85,
   "metadata": {
    "ExecuteTime": {
     "end_time": "2021-12-27T16:12:39.745000-03:00",
     "start_time": "2021-12-27T18:59:46.910Z"
    },
    "vscode": {
     "languageId": "julia"
    }
   },
   "outputs": [
    {
     "name": "stdout",
     "output_type": "stream",
     "text": [
      "error: 'cases' undefined near line 1 column 18\n"
     ]
    }
   ],
   "source": [
    "graph_dispersion(cases)"
   ]
  },
  {
   "cell_type": "markdown",
   "metadata": {},
   "source": [
    "## $588 \\leq |\\mathcal{B}| \\leq 2000 $"
   ]
  },
  {
   "cell_type": "code",
   "execution_count": 86,
   "metadata": {
    "ExecuteTime": {
     "end_time": "2021-12-27T16:12:39.782000-03:00",
     "start_time": "2021-12-27T18:59:46.915Z"
    },
    "vscode": {
     "languageId": "julia"
    }
   },
   "outputs": [
    {
     "name": "stdout",
     "output_type": "stream",
     "text": [
      "remove =  19\n",
      "parse error:\n",
      "\n",
      "  syntax error\n",
      "\n",
      ">>> range = filter(x -> !(x in remove),18:23);\n",
      "                      ^\n",
      "\n"
     ]
    }
   ],
   "source": [
    "remove = [19]\n",
    "range = filter(x -> !(x in remove),18:23);"
   ]
  },
  {
   "cell_type": "code",
   "execution_count": 87,
   "metadata": {
    "ExecuteTime": {
     "end_time": "2021-12-27T16:12:40.783000-03:00",
     "start_time": "2021-12-27T18:59:46.917Z"
    },
    "vscode": {
     "languageId": "julia"
    }
   },
   "outputs": [
    {
     "name": "stdout",
     "output_type": "stream",
     "text": [
      "parse error:\n",
      "\n",
      "  syntax error\n",
      "\n",
      ">>> tests = case_tests[range]\n",
      "                      ^\n",
      "\n"
     ]
    }
   ],
   "source": [
    "tests = case_tests[range]"
   ]
  },
  {
   "cell_type": "markdown",
   "metadata": {},
   "source": [
    "### Typical Operating Conditions"
   ]
  },
  {
   "cell_type": "code",
   "execution_count": 88,
   "metadata": {
    "ExecuteTime": {
     "end_time": "2021-12-27T16:39:52.307000-03:00",
     "start_time": "2021-12-27T18:59:46.920Z"
    },
    "vscode": {
     "languageId": "julia"
    }
   },
   "outputs": [
    {
     "name": "stdout",
     "output_type": "stream",
     "text": [
      "error: 'tests' undefined near line 1 column 26\n"
     ]
    }
   ],
   "source": [
    "cases_no_sdp = benchmark(tests,TYP,false);"
   ]
  },
  {
   "cell_type": "code",
   "execution_count": 89,
   "metadata": {
    "ExecuteTime": {
     "end_time": "2021-12-27T16:39:54.319000-03:00",
     "start_time": "2021-12-27T18:59:46.924Z"
    },
    "vscode": {
     "languageId": "julia"
    }
   },
   "outputs": [
    {
     "name": "stdout",
     "output_type": "stream",
     "text": [
      "error: 'cases_no_sdp' undefined near line 1 column 26\n"
     ]
    }
   ],
   "source": [
    "print_cases_no_sdp_table(cases_no_sdp)"
   ]
  },
  {
   "cell_type": "code",
   "execution_count": 90,
   "metadata": {
    "ExecuteTime": {
     "end_time": "2021-12-27T16:39:54.707000-03:00",
     "start_time": "2021-12-27T18:59:46.926Z"
    },
    "scrolled": false,
    "vscode": {
     "languageId": "julia"
    }
   },
   "outputs": [
    {
     "name": "stdout",
     "output_type": "stream",
     "text": [
      "error: 'cases_no_sdp' undefined near line 1 column 18\n"
     ]
    }
   ],
   "source": [
    "graph_dispersion(cases_no_sdp,sdp=false)"
   ]
  },
  {
   "cell_type": "markdown",
   "metadata": {},
   "source": [
    "### Congested Operating Conditions"
   ]
  },
  {
   "cell_type": "code",
   "execution_count": 91,
   "metadata": {
    "ExecuteTime": {
     "end_time": "2021-12-27T16:59:11.810000-03:00",
     "start_time": "2021-12-27T18:59:46.929Z"
    },
    "vscode": {
     "languageId": "julia"
    }
   },
   "outputs": [
    {
     "name": "stdout",
     "output_type": "stream",
     "text": [
      "error: 'tests' undefined near line 1 column 26\n"
     ]
    }
   ],
   "source": [
    "cases_no_sdp = benchmark(tests,API,false);"
   ]
  },
  {
   "cell_type": "code",
   "execution_count": 92,
   "metadata": {
    "ExecuteTime": {
     "end_time": "2021-12-27T16:59:11.812000-03:00",
     "start_time": "2021-12-27T18:59:46.932Z"
    },
    "vscode": {
     "languageId": "julia"
    }
   },
   "outputs": [
    {
     "name": "stdout",
     "output_type": "stream",
     "text": [
      "error: 'cases_no_sdp' undefined near line 1 column 26\n"
     ]
    }
   ],
   "source": [
    "print_cases_no_sdp_table(cases_no_sdp)"
   ]
  },
  {
   "cell_type": "code",
   "execution_count": 93,
   "metadata": {
    "ExecuteTime": {
     "end_time": "2021-12-27T16:59:12.305000-03:00",
     "start_time": "2021-12-27T18:59:46.934Z"
    },
    "vscode": {
     "languageId": "julia"
    }
   },
   "outputs": [
    {
     "name": "stdout",
     "output_type": "stream",
     "text": [
      "error: 'cases_no_sdp' undefined near line 1 column 18\n"
     ]
    }
   ],
   "source": [
    "graph_dispersion(cases_no_sdp,sdp=false)"
   ]
  },
  {
   "cell_type": "markdown",
   "metadata": {},
   "source": [
    "### Small Angle Difference Conditions"
   ]
  },
  {
   "cell_type": "code",
   "execution_count": 94,
   "metadata": {
    "ExecuteTime": {
     "end_time": "2021-12-27T17:30:38.916000-03:00",
     "start_time": "2021-12-27T18:59:46.936Z"
    },
    "vscode": {
     "languageId": "julia"
    }
   },
   "outputs": [
    {
     "name": "stdout",
     "output_type": "stream",
     "text": [
      "error: 'tests' undefined near line 1 column 26\n"
     ]
    }
   ],
   "source": [
    "cases_no_sdp = benchmark(tests,SAD,false);"
   ]
  },
  {
   "cell_type": "code",
   "execution_count": 95,
   "metadata": {
    "ExecuteTime": {
     "end_time": "2021-12-27T17:30:38.950000-03:00",
     "start_time": "2021-12-27T18:59:46.939Z"
    },
    "vscode": {
     "languageId": "julia"
    }
   },
   "outputs": [
    {
     "name": "stdout",
     "output_type": "stream",
     "text": [
      "error: 'cases_no_sdp' undefined near line 1 column 26\n"
     ]
    }
   ],
   "source": [
    "print_cases_no_sdp_table(cases_no_sdp)"
   ]
  },
  {
   "cell_type": "code",
   "execution_count": 96,
   "metadata": {
    "ExecuteTime": {
     "end_time": "2021-12-27T17:30:39.327000-03:00",
     "start_time": "2021-12-27T18:59:46.946Z"
    },
    "vscode": {
     "languageId": "julia"
    }
   },
   "outputs": [
    {
     "name": "stdout",
     "output_type": "stream",
     "text": [
      "error: 'cases_no_sdp' undefined near line 1 column 18\n"
     ]
    }
   ],
   "source": [
    "graph_dispersion(cases_no_sdp,sdp=false)"
   ]
  }
 ],
 "metadata": {
  "@webio": {
   "lastCommId": null,
   "lastKernelId": null
  },
  "kernelspec": {
   "display_name": "Octave",
   "language": "octave",
   "name": "octave"
  },
  "language_info": {
   "file_extension": ".m",
   "help_links": [
    {
     "text": "GNU Octave",
     "url": "https://www.gnu.org/software/octave/support.html"
    },
    {
     "text": "Octave Kernel",
     "url": "https://github.com/Calysto/octave_kernel"
    },
    {
     "text": "MetaKernel Magics",
     "url": "https://metakernel.readthedocs.io/en/latest/source/README.html"
    }
   ],
   "mimetype": "text/x-octave",
   "name": "octave",
   "version": "5.2.0"
  },
  "toc": {
   "base_numbering": 1,
   "nav_menu": {},
   "number_sections": true,
   "sideBar": true,
   "skip_h1_title": false,
   "title_cell": "Table of Contents",
   "title_sidebar": "Contents",
   "toc_cell": false,
   "toc_position": {
    "height": "calc(100% - 180px)",
    "left": "10px",
    "top": "150px",
    "width": "222.675px"
   },
   "toc_section_display": true,
   "toc_window_display": true
  }
 },
 "nbformat": 4,
 "nbformat_minor": 4
}
